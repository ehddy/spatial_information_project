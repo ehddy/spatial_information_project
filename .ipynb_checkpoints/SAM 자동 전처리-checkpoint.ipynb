{
 "cells": [
  {
   "cell_type": "code",
   "execution_count": 26,
   "id": "d8477b9d",
   "metadata": {},
   "outputs": [],
   "source": [
    "import numpy as np \n",
    "import pandas as pd "
   ]
  },
  {
   "cell_type": "code",
   "execution_count": 27,
   "id": "7c5a2daa",
   "metadata": {},
   "outputs": [],
   "source": [
    "# 산업연관표 데이터 \n",
    "data_2015 = pd.read_excel('/Users/dongyokim/main/jupyter /2022:Summer/프로젝트/2015/총/2015년 총거래표(25).xlsx')\n",
    "data_2016 = pd.read_excel('/Users/dongyokim/main/jupyter /2022:Summer/프로젝트/2016/총/2016년 총거래표(25).xlsx')\n",
    "data_2017 = pd.read_excel('/Users/dongyokim/main/jupyter /2022:Summer/프로젝트/2017/총/2017년 총거래표(25).xlsx')\n",
    "data_2018 = pd.read_excel('/Users/dongyokim/main/jupyter /2022:Summer/프로젝트/2018/총/2018년 총거래표(25).xlsx')\n",
    "data_2019 = pd.read_excel('/Users/dongyokim/main/jupyter /2022:Summer/프로젝트/2019/총/2019년 총거래표(25).xlsx')\n",
    "\n",
    "total_data = [data_2015, data_2016, data_2017, data_2018, data_2019]"
   ]
  },
  {
   "cell_type": "code",
   "execution_count": 28,
   "id": "2d29770f",
   "metadata": {},
   "outputs": [],
   "source": [
    "for i in range(5):\n",
    "    total_data[i].rename(columns={'Unnamed: 0':'상품분류'}, inplace=True)\n",
    "    total_data[i].set_index('상품분류', inplace=True)"
   ]
  },
  {
   "cell_type": "code",
   "execution_count": 29,
   "id": "de6a71aa",
   "metadata": {},
   "outputs": [],
   "source": [
    "# 국민계정 순저축 데이터 \n",
    "data_sav = pd.read_excel('/Users/dongyokim/main/jupyter /2022:Summer/프로젝트/제도부문별 소득계정(명목, 연간)_09004241.xlsx')"
   ]
  },
  {
   "cell_type": "code",
   "execution_count": 30,
   "id": "74e64d58",
   "metadata": {},
   "outputs": [],
   "source": [
    "# 가계저축 \n",
    "house_sav_2015 = np.sum(data_sav['2015']) - data_sav.loc[2, '2015']\n",
    "house_sav_2016 = np.sum(data_sav['2016']) - data_sav.loc[2, '2016']\n",
    "house_sav_2017 = np.sum(data_sav['2017']) - data_sav.loc[2, '2017']\n",
    "house_sav_2018 = np.sum(data_sav['2018']) - data_sav.loc[2, '2018']\n",
    "house_sav_2019 = np.sum(data_sav['2019']) - data_sav.loc[2, '2019']\n",
    "\n",
    "house_sav = [house_sav_2015, house_sav_2016, house_sav_2017, house_sav_2018, house_sav_2019]\n",
    "\n",
    "# 정부저축 \n",
    "gov_sav_2015 = data_sav.loc[2, '2015']\n",
    "gov_sav_2016 = data_sav.loc[2, '2016']\n",
    "gov_sav_2017 = data_sav.loc[2, '2017']\n",
    "gov_sav_2018 = data_sav.loc[2, '2018']\n",
    "gov_sav_2019 = data_sav.loc[2, '2019']\n",
    "\n",
    "gov_sav = [gov_sav_2015, gov_sav_2016, gov_sav_2017, gov_sav_2018, gov_sav_2019]"
   ]
  },
  {
   "cell_type": "code",
   "execution_count": 73,
   "id": "c8daa973",
   "metadata": {},
   "outputs": [],
   "source": [
    "def sam_pre(data, house_sav, gov_sav):\n",
    "    \n",
    "    sam = pd.read_excel('/Users/dongyokim/main/jupyter /2022:Summer/프로젝트/SAM 양식.xlsx', sheet_name='전산업_SAM')    \n",
    "    sam.rename(columns={'Unnamed: 0':'구분'}, inplace=True)\n",
    "    sam.set_index('구분', inplace=True)\n",
    "    sam = sam.replace(np.NaN, 0)\n",
    "    \n",
    "    data = data.replace(np.NaN, 0)\n",
    "    \n",
    "    # 산업연관표 데이터 이용 \n",
    "    sam.loc['산업', '산업'] = data.loc['중간투입계', '중간수요계']\n",
    "\n",
    "    sam.loc['가계', '노동'] = data.loc['피용자보수', '중간수요계']\n",
    "    sam.loc['가계', '자본'] = data.loc['영업잉여', '중간수요계'] + data.loc['고정자본소모', '중간수요계']\n",
    "\n",
    "\n",
    "    sam.loc['노동', '산업'] = data.loc['피용자보수', '중간수요계']\n",
    "    sam.loc['자본', '산업'] = data.loc['영업잉여', '중간수요계'] + data.loc['고정자본소모', '중간수요계']\n",
    "\n",
    "    sam.loc['산업', '가계'] = data.loc['중간투입계', '민간소비지출\\n(가계 및 가계봉사\\n비영리단체)']\n",
    "    sam.loc['산업', '정부'] = data.loc['중간투입계', '정부소비지출']\n",
    "    sam.loc['산업', '총 고정 자본'] = data.loc['중간투입계', '민간고정\\n자본형성'] + data.loc['중간투입계', '정부고정\\n자본형성'] + data.loc['중간투입계', '재고증감'] + data.loc['중간투입계', '귀중품\\n순취득']\n",
    "    sam.loc['산업', '해외 수출'] = data.loc['중간투입계', '수출']\n",
    "\n",
    "    sam.loc['간접세', '산업'] = data.loc['생산세(보조금공제)', '중간수요계']\n",
    "    sam.loc['관세', '산업'] = data.loc['중간투입계', '생산물세(수입)']\n",
    "    sam.loc['해외 수입', '산업'] = data.loc['중간투입계', '수입']\n",
    "\n",
    "    sam.loc['정부', '간접세'] = data.loc['생산세(보조금공제)', '중간수요계']\n",
    "    sam.loc['정부', '관세'] = data.loc['중간투입계', '생산물세(수입)']\n",
    "\n",
    "    sam.loc['총 고정 자본', '해외 수출'] = data.loc['중간투입계', '수입'] - data.loc['중간투입계', '수출']\n",
    "    sam.loc['총 고정 자본', '가계'] = house_sav\n",
    "    sam.loc['총 고정 자본', '정부'] = gov_sav\n",
    "\n",
    "\n",
    "\n",
    "    # 행 렬 총계 맞춰주기 \n",
    "    sam['총계'] = sam.sum(axis=1)\n",
    "    sam.loc['총계', :] = sam.sum(axis=0)\n",
    "\n",
    "    sam.loc['정부', '총 고정 자본'] = sam.loc['총 고정 자본', '총계'] - sam.loc['총계', '총 고정 자본']\n",
    "\n",
    "    sam['총계'] = sam.iloc[:-1, :-1].sum(axis=1)\n",
    "    sam.loc['총계', :] = sam.iloc[:-1, :-1].sum(axis=0)\n",
    "\n",
    "    sam.loc['정부', '가계'] = sam.loc['가계', '총계'] - sam.loc['총계', '가계']\n",
    "\n",
    "    sam['총계'] = sam.iloc[:-1, :-1].sum(axis=1)\n",
    "    sam.loc['총계', :] = sam.iloc[:-1, :-1].sum(axis=0)\n",
    "    \n",
    "    \n",
    "    sam = sam.replace(0, np.NaN)\n",
    "    \n",
    "    return sam "
   ]
  },
  {
   "cell_type": "code",
   "execution_count": 45,
   "id": "f90226dd",
   "metadata": {},
   "outputs": [],
   "source": [
    "def sam_pre_detail(data, house_sav, gov_sav):\n",
    "    \n",
    "    sam = pd.read_excel('/Users/dongyokim/main/jupyter /2022:Summer/프로젝트/SAM 양식.xlsx', sheet_name='25개 산업_SAM')    \n",
    "    sam.rename(columns={'Unnamed: 0':'구분'}, inplace=True)\n",
    "    sam.set_index('구분', inplace=True)\n",
    "    sam = sam.replace(np.NaN, 0)\n",
    "    \n",
    "    data = data.replace(np.NaN, 0)\n",
    "    # 산업연관표 데이터 이용 \n",
    "    sam.loc[:'공간정보 관련 협회 및 단체', :'공간정보 관련 협회 및 단체'] = data.loc[:'공간정보 관련 협회 및 단체', :'공간정보 관련 협회 및 단체'].values\n",
    "    \n",
    "    sam.loc['가계', '노동'] = data.loc['피용자보수', '중간수요계']\n",
    "    sam.loc['가계', '자본'] = data.loc['영업잉여', '중간수요계'] + data.loc['고정자본소모', '중간수요계']\n",
    "\n",
    "\n",
    "    sam.loc['노동', :'공간정보 관련 협회 및 단체'] = data.loc['피용자보수', :'공간정보 관련 협회 및 단체'] \n",
    "    sam.loc['자본', :'공간정보 관련 협회 및 단체'] = data.loc['영업잉여', :'공간정보 관련 협회 및 단체'] + data.loc['고정자본소모', :'공간정보 관련 협회 및 단체']\n",
    "\n",
    "    sam.loc[:'공간정보 관련 협회 및 단체', '가계'] = data.loc[:'공간정보 관련 협회 및 단체', '민간소비지출\\n(가계 및 가계봉사\\n비영리단체)']\n",
    "    sam.loc[:'공간정보 관련 협회 및 단체', '정부'] = data.loc[:'공간정보 관련 협회 및 단체', '정부소비지출']\n",
    "    sam.loc[:'공간정보 관련 협회 및 단체', '총 고정 자본'] = data.loc[:'공간정보 관련 협회 및 단체', '민간고정\\n자본형성'] + data.loc[:'공간정보 관련 협회 및 단체', '정부고정\\n자본형성'] + data.loc[:'공간정보 관련 협회 및 단체', '재고증감'] + data.loc[:'공간정보 관련 협회 및 단체', '귀중품\\n순취득']\n",
    "    sam.loc[:'공간정보 관련 협회 및 단체', '해외 수출'] = data.loc[:'공간정보 관련 협회 및 단체', '수출']\n",
    "\n",
    "    sam.loc['간접세', :'공간정보 관련 협회 및 단체'] = data.loc['생산세(보조금공제)', :'공간정보 관련 협회 및 단체']\n",
    "    sam.loc['관세', :'공간정보 관련 협회 및 단체'] = data.loc[:'공간정보 관련 협회 및 단체', '생산물세(수입)']\n",
    "    sam.loc['해외 수입', :'공간정보 관련 협회 및 단체'] = data.loc[:'공간정보 관련 협회 및 단체', '수입']\n",
    "\n",
    "    sam.loc['정부', '간접세'] = data.loc['생산세(보조금공제)', '중간수요계']\n",
    "    sam.loc['정부', '관세'] = data.loc['중간투입계', '생산물세(수입)']\n",
    "\n",
    "    sam.loc['총 고정 자본', '해외 수출'] = data.loc['중간투입계', '수입'] - data.loc['중간투입계', '수출']\n",
    "    sam.loc['총 고정 자본', '가계'] = house_sav\n",
    "    sam.loc['총 고정 자본', '정부'] = gov_sav\n",
    "\n",
    "\n",
    "\n",
    "    # 행 렬 총계 맞춰주기 \n",
    "    sam['총계'] = sam.sum(axis=1)\n",
    "    sam.loc['총계', :] = sam.sum(axis=0)\n",
    "\n",
    "    sam.loc['정부', '총 고정 자본'] = sam.loc['총 고정 자본', '총계'] - sam.loc['총계', '총 고정 자본']\n",
    "\n",
    "    sam['총계'] = sam.iloc[:-1, :-1].sum(axis=1)\n",
    "    sam.loc['총계', :] = sam.iloc[:-1, :-1].sum(axis=0)\n",
    "\n",
    "    sam.loc['정부', '가계'] = sam.loc['가계', '총계'] - sam.loc['총계', '가계']\n",
    "\n",
    "    sam['총계'] = sam.iloc[:-1, :-1].sum(axis=1)\n",
    "    sam.loc['총계', :] = sam.iloc[:-1, :-1].sum(axis=0)\n",
    "    \n",
    "    sam = sam.replace(0, np.NaN)\n",
    "    \n",
    "    return sam "
   ]
  },
  {
   "cell_type": "code",
   "execution_count": 4,
   "id": "af152823",
   "metadata": {},
   "outputs": [],
   "source": [
    "# 전산업 \n",
    "year = int(input('기준 연도를 입력해주세요 : '))\n",
    "for data, house, gov in zip(total_data, house_sav, gov_sav):\n",
    "    result_sam = sam_pre(data, house, gov)\n",
    "    result_sam.to_excel('sam_{}.xlsx'.format(year))\n",
    "    year += 1 \n",
    "    "
   ]
  },
  {
   "cell_type": "code",
   "execution_count": 46,
   "id": "404c07f7",
   "metadata": {},
   "outputs": [
    {
     "name": "stdout",
     "output_type": "stream",
     "text": [
      "기준 연도를 입력해주세요 : 2015\n"
     ]
    }
   ],
   "source": [
    "# 25개 산업 \n",
    "year = int(input('기준 연도를 입력해주세요 : '))\n",
    "for data, house, gov in zip(total_data, house_sav, gov_sav):\n",
    "    result_sam = sam_pre_detail(data, house, gov)\n",
    "    result_sam.to_excel('25개 산업_sam_{}.xlsx'.format(year))\n",
    "    year += 1 \n",
    "    "
   ]
  }
 ],
 "metadata": {
  "kernelspec": {
   "display_name": "Python 3 (ipykernel)",
   "language": "python",
   "name": "python3"
  },
  "language_info": {
   "codemirror_mode": {
    "name": "ipython",
    "version": 3
   },
   "file_extension": ".py",
   "mimetype": "text/x-python",
   "name": "python",
   "nbconvert_exporter": "python",
   "pygments_lexer": "ipython3",
   "version": "3.9.7"
  }
 },
 "nbformat": 4,
 "nbformat_minor": 5
}
