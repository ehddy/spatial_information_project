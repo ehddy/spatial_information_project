{
 "cells": [
  {
   "cell_type": "code",
   "execution_count": 30,
   "id": "ac853a21",
   "metadata": {},
   "outputs": [],
   "source": [
    "from industry_analysis import * \n",
    "\n",
    "import pandas as pd \n",
    "import numpy as np\n",
    "import time \n",
    "import matplotlib.pyplot as plt \n",
    "\n",
    "                                                                                                                                                                                                                                                                                                                                                                                                                                                        \n",
    "%matplotlib inline\n",
    "\n",
    "import warnings\n",
    "warnings.filterwarnings('ignore')\n",
    "\n",
    "\n",
    "# 맥 폰트 \n",
    "\n",
    "plt.rc('font', family='AppleGothic')\n",
    "\n",
    "plt.rcParams['axes.unicode_minus'] = False\n",
    "\n",
    "\n",
    "# # 윈도우 폰트 \n",
    "# plt.rc('font', family='Malgun Gothic')\n",
    "\n",
    "# plt.rcParams['axes.unicode_minus'] = False"
   ]
  },
  {
   "cell_type": "code",
   "execution_count": 31,
   "id": "8a0606d1",
   "metadata": {},
   "outputs": [],
   "source": [
    "# 산업연관표 데이터 25개 분류 \n",
    "\n",
    "# 총\n",
    "data_2015 = pd.read_excel('/Users/dongyokim/main/jupyter/2022:Summer/프로젝트/2015/총/2015년 총거래표(25).xlsx')\n",
    "data_2016 = pd.read_excel('/Users/dongyokim/main/jupyter/2022:Summer/프로젝트/2016/총/2016년 총거래표(25).xlsx')\n",
    "data_2017 = pd.read_excel('/Users/dongyokim/main/jupyter/2022:Summer/프로젝트/2017/총/2017년 총거래표(25).xlsx')\n",
    "data_2018 = pd.read_excel('/Users/dongyokim/main/jupyter/2022:Summer/프로젝트/2018/총/2018년 총거래표(25).xlsx')\n",
    "data_2019 = pd.read_excel('/Users/dongyokim/main/jupyter/2022:Summer/프로젝트/2019/총/2019년 총거래표(25).xlsx')\n",
    "\n",
    "total_data_25 = [data_2015, data_2016, data_2017, data_2018, data_2019]\n",
    "\n",
    "# 국산 \n",
    "data_2015_domestic = pd.read_excel('/Users/dongyokim/main/jupyter/2022:Summer/프로젝트/2015/국산/2015년 국산거래표(25).xlsx')\n",
    "data_2016_domestic = pd.read_excel('/Users/dongyokim/main/jupyter/2022:Summer/프로젝트/2016/국산/2016년 국산거래표(25).xlsx')\n",
    "data_2017_domestic = pd.read_excel('/Users/dongyokim/main/jupyter/2022:Summer/프로젝트/2017/국산/2017년 국산거래표(25).xlsx')\n",
    "data_2018_domestic = pd.read_excel('/Users/dongyokim/main/jupyter/2022:Summer/프로젝트/2018/국산/2018년 국산거래표(25).xlsx')\n",
    "data_2019_domestic = pd.read_excel('/Users/dongyokim/main/jupyter/2022:Summer/프로젝트/2019/국산/2019년 국산거래표(25).xlsx')\n",
    "\n",
    "total_data_25_domestic = [data_2015_domestic, data_2016_domestic, data_2017_domestic, data_2018_domestic, data_2019_domestic]"
   ]
  },
  {
   "cell_type": "code",
   "execution_count": 32,
   "id": "0b67ba80",
   "metadata": {},
   "outputs": [],
   "source": [
    "# 산업연관표 데이터 5개 분류 \n",
    "\n",
    "# 맥용\n",
    "\n",
    "# 총 \n",
    "data_2015_5 = pd.read_excel('/Users/dongyokim/main/jupyter/2022:Summer/프로젝트/2015/총/2015년 총거래표(5).xlsx')\n",
    "data_2016_5 = pd.read_excel('/Users/dongyokim/main/jupyter/2022:Summer/프로젝트/2016/총/2016년 총거래표(5).xlsx')\n",
    "data_2017_5 = pd.read_excel('/Users/dongyokim/main/jupyter/2022:Summer/프로젝트/2017/총/2017년 총거래표(5).xlsx')\n",
    "data_2018_5 = pd.read_excel('/Users/dongyokim/main/jupyter/2022:Summer/프로젝트/2018/총/2018년 총거래표(5).xlsx')\n",
    "data_2019_5 = pd.read_excel('/Users/dongyokim/main/jupyter/2022:Summer/프로젝트/2019/총/2019년 총거래표(5).xlsx')\n",
    "\n",
    "total_data_5 = [data_2015_5, data_2016_5, data_2017_5, data_2018_5, data_2019_5]\n",
    "\n",
    "# 국산 \n",
    "data_2015_5_domestic = pd.read_excel('/Users/dongyokim/main/jupyter/2022:Summer/프로젝트/2015/국산/2015년 국산거래표(5).xlsx')\n",
    "data_2016_5_domestic = pd.read_excel('/Users/dongyokim/main/jupyter/2022:Summer/프로젝트/2016/국산/2016년 국산거래표(5).xlsx')\n",
    "data_2017_5_domestic = pd.read_excel('/Users/dongyokim/main/jupyter/2022:Summer/프로젝트/2017/국산/2017년 국산거래표(5).xlsx')\n",
    "data_2018_5_domestic = pd.read_excel('/Users/dongyokim/main/jupyter/2022:Summer/프로젝트/2018/국산/2018년 국산거래표(5).xlsx')\n",
    "data_2019_5_domestic = pd.read_excel('/Users/dongyokim/main/jupyter/2022:Summer/프로젝트/2019/국산/2019년 국산거래표(5).xlsx')\n",
    "\n",
    "total_data_5_domestic = [data_2015_5_domestic, data_2016_5_domestic, data_2017_5_domestic, data_2018_5_domestic, data_2019_5_domestic]"
   ]
  },
  {
   "cell_type": "code",
   "execution_count": 33,
   "id": "f2e5be9f",
   "metadata": {},
   "outputs": [],
   "source": [
    "# 고용표 \n",
    "employ_data_5 = pd.read_excel('/Users/dongyokim/main/jupyter/2022:Summer/프로젝트/고용표_최종(5).xlsx')\n",
    "employ_data_25 = pd.read_excel('/Users/dongyokim/main/jupyter/2022:Summer/프로젝트/고용표_최종(25).xlsx')"
   ]
  },
  {
   "cell_type": "code",
   "execution_count": 34,
   "id": "cb7002f4",
   "metadata": {},
   "outputs": [
    {
     "name": "stdout",
     "output_type": "stream",
     "text": [
      ">>> Num of IndustryGroups: 6\n"
     ]
    }
   ],
   "source": [
    "if __name__ == '__main__':\n",
    "    # industry_analysis = Industry_Analysis(total_data_5, total_data_5_domestic, employ_data_5, 5, 2015)\n",
    "    industry_analysis = Industry_Analysis(total_data_25, total_data_25_domestic, employ_data_25, 25, 2015)\n",
    "    \n",
    "    special_list = ['공간정보 관련 제조업', '공간정보 관련 도매업', '공간정보 관련 출판 및 정보서비스업', '공간정보 관련 기술서비스업', '공간정보 관련 교육서비스업', '공간정보 관련 협회 및 단체']\n",
    "    # special_list = ['공간정보산업']\n",
    "    \n",
    "    industry_analysis.add_special_industry_list(special_list)"
   ]
  },
  {
   "cell_type": "code",
   "execution_count": 35,
   "id": "a6534559",
   "metadata": {},
   "outputs": [
    {
     "ename": "NameError",
     "evalue": "name 'pd' is not defined",
     "output_type": "error",
     "traceback": [
      "\u001b[0;31m---------------------------------------------------------------------------\u001b[0m",
      "\u001b[0;31mNameError\u001b[0m                                 Traceback (most recent call last)",
      "Input \u001b[0;32mIn [35]\u001b[0m, in \u001b[0;36m<module>\u001b[0;34m\u001b[0m\n\u001b[0;32m----> 1\u001b[0m \u001b[43mindustry_analysis\u001b[49m\u001b[38;5;241;43m.\u001b[39;49m\u001b[43mtotal_employ_coef_table\u001b[49m\u001b[43m(\u001b[49m\u001b[43m)\u001b[49m\n",
      "File \u001b[0;32m~/main/jupyter/2022:Summer/프로젝트/industry_analysis.py:511\u001b[0m, in \u001b[0;36mIndustry_Analysis.total_employ_coef_table\u001b[0;34m(self)\u001b[0m\n\u001b[1;32m    510\u001b[0m \u001b[38;5;28;01mdef\u001b[39;00m \u001b[38;5;21mtotal_employ_coef_table\u001b[39m(\u001b[38;5;28mself\u001b[39m):\n\u001b[0;32m--> 511\u001b[0m     total_c_table \u001b[38;5;241m=\u001b[39m \u001b[38;5;28;43mself\u001b[39;49m\u001b[38;5;241;43m.\u001b[39;49m\u001b[43memploy_coef_table\u001b[49m\u001b[43m(\u001b[49m\u001b[43m)\u001b[49m[\u001b[38;5;241m0\u001b[39m]\n\u001b[1;32m    512\u001b[0m     total_p_table \u001b[38;5;241m=\u001b[39m \u001b[38;5;28mself\u001b[39m\u001b[38;5;241m.\u001b[39memploy_coef_table()[\u001b[38;5;241m1\u001b[39m]\n\u001b[1;32m    514\u001b[0m     df \u001b[38;5;241m=\u001b[39m pd\u001b[38;5;241m.\u001b[39mconcat([total_c_table, total_p_table], axis\u001b[38;5;241m=\u001b[39m\u001b[38;5;241m1\u001b[39m)\n",
      "File \u001b[0;32m~/main/jupyter/2022:Summer/프로젝트/industry_analysis.py:495\u001b[0m, in \u001b[0;36mIndustry_Analysis.employ_coef_table\u001b[0;34m(self)\u001b[0m\n\u001b[1;32m    494\u001b[0m \u001b[38;5;28;01mdef\u001b[39;00m \u001b[38;5;21memploy_coef_table\u001b[39m(\u001b[38;5;28mself\u001b[39m):\n\u001b[0;32m--> 495\u001b[0m     employ_coef_metrix_c \u001b[38;5;241m=\u001b[39m \u001b[38;5;28;43mself\u001b[39;49m\u001b[38;5;241;43m.\u001b[39;49m\u001b[43memploy_coef_metrix\u001b[49m\u001b[43m(\u001b[49m\u001b[43m)\u001b[49m[\u001b[38;5;241m0\u001b[39m]\n\u001b[1;32m    496\u001b[0m     employ_coef_metrix_p \u001b[38;5;241m=\u001b[39m \u001b[38;5;28mself\u001b[39m\u001b[38;5;241m.\u001b[39memploy_coef_metrix()[\u001b[38;5;241m1\u001b[39m]\n\u001b[1;32m    497\u001b[0m     year \u001b[38;5;241m=\u001b[39m \u001b[38;5;28mself\u001b[39m\u001b[38;5;241m.\u001b[39myear\n",
      "File \u001b[0;32m~/main/jupyter/2022:Summer/프로젝트/industry_analysis.py:456\u001b[0m, in \u001b[0;36mIndustry_Analysis.employ_coef_metrix\u001b[0;34m(self)\u001b[0m\n\u001b[1;32m    454\u001b[0m year \u001b[38;5;241m=\u001b[39m \u001b[38;5;28mself\u001b[39m\u001b[38;5;241m.\u001b[39myear\n\u001b[1;32m    455\u001b[0m \u001b[38;5;66;03m# 생산유발계수 행렬\u001b[39;00m\n\u001b[0;32m--> 456\u001b[0m total_prod_metrix \u001b[38;5;241m=\u001b[39m \u001b[38;5;28;43mself\u001b[39;49m\u001b[38;5;241;43m.\u001b[39;49m\u001b[43minput_prod_coeff\u001b[49m\u001b[43m(\u001b[49m\u001b[43m)\u001b[49m\n\u001b[1;32m    458\u001b[0m \u001b[38;5;66;03m# 취업, 노동 계수 \u001b[39;00m\n\u001b[1;32m    459\u001b[0m total_coef_table \u001b[38;5;241m=\u001b[39m \u001b[38;5;28mself\u001b[39m\u001b[38;5;241m.\u001b[39memploy_coef()[\u001b[38;5;241m0\u001b[39m]\n",
      "File \u001b[0;32m~/main/jupyter/2022:Summer/프로젝트/industry_analysis.py:309\u001b[0m, in \u001b[0;36mIndustry_Analysis.input_prod_coeff\u001b[0;34m(self)\u001b[0m\n\u001b[1;32m    306\u001b[0m input_metrix \u001b[38;5;241m=\u001b[39m domestic_data\u001b[38;5;241m.\u001b[39miloc[:, :\u001b[38;5;28mself\u001b[39m\u001b[38;5;241m.\u001b[39mmetrix_num] \u001b[38;5;241m/\u001b[39m data\u001b[38;5;241m.\u001b[39mloc[\u001b[38;5;124m'\u001b[39m\u001b[38;5;124m총투입계\u001b[39m\u001b[38;5;124m'\u001b[39m, :data\u001b[38;5;241m.\u001b[39mindex\u001b[38;5;241m.\u001b[39mvalues[\u001b[38;5;28mself\u001b[39m\u001b[38;5;241m.\u001b[39mmetrix_num\u001b[38;5;241m-\u001b[39m\u001b[38;5;241m1\u001b[39m]]\n\u001b[1;32m    307\u001b[0m input_metrix \u001b[38;5;241m=\u001b[39m input_metrix\u001b[38;5;241m.\u001b[39miloc[:\u001b[38;5;28mself\u001b[39m\u001b[38;5;241m.\u001b[39mmetrix_num, :\u001b[38;5;28mself\u001b[39m\u001b[38;5;241m.\u001b[39mmetrix_num]\n\u001b[0;32m--> 309\u001b[0m prod_induc_metrix \u001b[38;5;241m=\u001b[39m \u001b[43mpd\u001b[49m\u001b[38;5;241m.\u001b[39mDataFrame(data\u001b[38;5;241m=\u001b[39mnp\u001b[38;5;241m.\u001b[39mlinalg\u001b[38;5;241m.\u001b[39minv(np\u001b[38;5;241m.\u001b[39midentity(\u001b[38;5;28mself\u001b[39m\u001b[38;5;241m.\u001b[39mmetrix_num) \u001b[38;5;241m-\u001b[39m input_metrix), columns\u001b[38;5;241m=\u001b[39m[input_metrix\u001b[38;5;241m.\u001b[39mcolumns[i] \u001b[38;5;28;01mfor\u001b[39;00m i \u001b[38;5;129;01min\u001b[39;00m \u001b[38;5;28mrange\u001b[39m(\u001b[38;5;28mlen\u001b[39m(input_metrix\u001b[38;5;241m.\u001b[39mcolumns))], index\u001b[38;5;241m=\u001b[39m[input_metrix\u001b[38;5;241m.\u001b[39mcolumns[i] \u001b[38;5;28;01mfor\u001b[39;00m i \u001b[38;5;129;01min\u001b[39;00m \u001b[38;5;28mrange\u001b[39m(\u001b[38;5;28mlen\u001b[39m(input_metrix\u001b[38;5;241m.\u001b[39mcolumns))])\n\u001b[1;32m    312\u001b[0m prod_induc_metrix[\u001b[38;5;124m'\u001b[39m\u001b[38;5;124m행합\u001b[39m\u001b[38;5;124m'\u001b[39m] \u001b[38;5;241m=\u001b[39m prod_induc_metrix\u001b[38;5;241m.\u001b[39msum(axis\u001b[38;5;241m=\u001b[39m\u001b[38;5;241m1\u001b[39m)\n\u001b[1;32m    313\u001b[0m prod_induc_metrix\u001b[38;5;241m.\u001b[39mloc[\u001b[38;5;124m'\u001b[39m\u001b[38;5;124m열합\u001b[39m\u001b[38;5;124m'\u001b[39m, :] \u001b[38;5;241m=\u001b[39m prod_induc_metrix\u001b[38;5;241m.\u001b[39msum(axis\u001b[38;5;241m=\u001b[39m\u001b[38;5;241m0\u001b[39m)\n",
      "\u001b[0;31mNameError\u001b[0m: name 'pd' is not defined"
     ]
    }
   ],
   "source": [
    "industry_analysis.total_employ_coef_table()"
   ]
  },
  {
   "cell_type": "code",
   "execution_count": null,
   "id": "f30d91d4",
   "metadata": {},
   "outputs": [],
   "source": []
  }
 ],
 "metadata": {
  "kernelspec": {
   "display_name": "Python 3 (ipykernel)",
   "language": "python",
   "name": "python3"
  },
  "language_info": {
   "codemirror_mode": {
    "name": "ipython",
    "version": 3
   },
   "file_extension": ".py",
   "mimetype": "text/x-python",
   "name": "python",
   "nbconvert_exporter": "python",
   "pygments_lexer": "ipython3",
   "version": "3.9.7"
  }
 },
 "nbformat": 4,
 "nbformat_minor": 5
}
