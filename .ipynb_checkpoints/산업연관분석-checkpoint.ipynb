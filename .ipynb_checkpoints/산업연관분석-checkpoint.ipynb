{
 "cells": [
  {
   "cell_type": "code",
   "execution_count": 6,
   "id": "4771b82a",
   "metadata": {},
   "outputs": [],
   "source": [
    "import pandas as pd \n",
    "import numpy as np\n",
    "import time \n",
    "import matplotlib.pyplot as plt \n",
    "\n",
    "                                                                                                                                                                                                                                                                                                                                                                                                                                                        \n",
    "%matplotlib inline\n",
    "\n",
    "import warnings\n",
    "warnings.filterwarnings('ignore')\n",
    "\n",
    "\n",
    "# 맥 폰트 \n",
    "\n",
    "plt.rc('font', family='AppleGothic')\n",
    "\n",
    "plt.rcParams['axes.unicode_minus'] = False\n",
    "\n",
    "\n",
    "# # 윈도우 폰트 \n",
    "# plt.rc('font', family='Malgun Gothic')\n",
    "\n",
    "# plt.rcParams['axes.unicode_minus'] = False"
   ]
  },
  {
   "cell_type": "markdown",
   "id": "49257c25",
   "metadata": {},
   "source": [
    "## 1. 데이터 불러오기"
   ]
  },
  {
   "cell_type": "markdown",
   "id": "ef3286ec",
   "metadata": {},
   "source": [
    "### 1) 25개 분류 데이터 불러오기"
   ]
  },
  {
   "cell_type": "code",
   "execution_count": 124,
   "id": "5054f0d8",
   "metadata": {},
   "outputs": [],
   "source": [
    "# 산업연관표 데이터 \n",
    "\n",
    "# 윈도우\n",
    "\n",
    "# 총 \n",
    "data_2015 = pd.read_excel('C:/Users/Innovation/Desktop/김동요/jupyter/프로젝트/2015/총/2015년 총거래표(25).xlsx')\n",
    "data_2016 = pd.read_excel('C:/Users/Innovation/Desktop/김동요/jupyter/프로젝트/2016/총/2016년 총거래표(25).xlsx')\n",
    "data_2017 = pd.read_excel('C:/Users/Innovation/Desktop/김동요/jupyter/프로젝트/2017/총/2017년 총거래표(25).xlsx')\n",
    "data_2018 = pd.read_excel('C:/Users/Innovation/Desktop/김동요/jupyter/프로젝트/2018/총/2018년 총거래표(25).xlsx')\n",
    "data_2019 = pd.read_excel('C:/Users/Innovation/Desktop/김동요/jupyter/프로젝트/2019/총/2019년 총거래표(25).xlsx')\n",
    "\n",
    "total_data = [data_2015, data_2016, data_2017, data_2018, data_2019]\n",
    "\n",
    "# 국산 \n",
    "data_2015_domestic = pd.read_excel('C:/Users/Innovation/Desktop/김동요/jupyter/프로젝트/2015/국산/2015년 국산거래표(25).xlsx')\n",
    "data_2016_domestic = pd.read_excel('C:/Users/Innovation/Desktop/김동요/jupyter/프로젝트/2016/국산/2016년 국산거래표(25).xlsx')\n",
    "data_2017_domestic = pd.read_excel('C:/Users/Innovation/Desktop/김동요/jupyter/프로젝트/2017/국산/2017년 국산거래표(25).xlsx')\n",
    "data_2018_domestic = pd.read_excel('C:/Users/Innovation/Desktop/김동요/jupyter/프로젝트/2018/국산/2018년 국산거래표(25).xlsx')\n",
    "data_2019_domestic = pd.read_excel('C:/Users/Innovation/Desktop/김동요/jupyter/프로젝트/2019/국산/2019년 국산거래표(25).xlsx')\n",
    "\n",
    "total_data_domestic = [data_2015_domestic, data_2016_domestic, data_2017_domestic, data_2018_domestic, data_2019_domestic]"
   ]
  },
  {
   "cell_type": "code",
   "execution_count": null,
   "id": "7a7ceeed",
   "metadata": {},
   "outputs": [],
   "source": [
    "# 산업연관표 데이터 \n",
    "\n",
    "# 맥용\n",
    "data_2015 = pd.read_excel('/Users/dongyokim/main/jupyter/2022:Summer/프로젝트/2015/총/2015년 총거래표(25).xlsx')\n",
    "data_2016 = pd.read_excel('/Users/dongyokim/main/jupyter/2022:Summer/프로젝트/2016/총/2016년 총거래표(25).xlsx')\n",
    "data_2017 = pd.read_excel('/Users/dongyokim/main/jupyter/2022:Summer/프로젝트/2017/총/2017년 총거래표(25).xlsx')\n",
    "data_2018 = pd.read_excel('/Users/dongyokim/main/jupyter/2022:Summer/프로젝트/2018/총/2018년 총거래표(25).xlsx')\n",
    "data_2019 = pd.read_excel('/Users/dongyokim/main/jupyter/2022:Summer/프로젝트/2019/총/2019년 총거래표(25).xlsx')\n",
    "\n",
    "total_data = [data_2015, data_2016, data_2017, data_2018, data_2019]"
   ]
  },
  {
   "cell_type": "markdown",
   "id": "9c27dce6",
   "metadata": {},
   "source": [
    "### 2) 5개 분류 데이터 불러오기"
   ]
  },
  {
   "cell_type": "code",
   "execution_count": 125,
   "id": "f8e51a44",
   "metadata": {},
   "outputs": [],
   "source": [
    "# 산업연관표 데이터 \n",
    "\n",
    "# 윈도우\n",
    "\n",
    "# 총 \n",
    "data_2015_5 = pd.read_excel('C:/Users/Innovation/Desktop/김동요/jupyter/프로젝트/2015/총/2015년 총거래표(5).xlsx')\n",
    "data_2016_5 = pd.read_excel('C:/Users/Innovation/Desktop/김동요/jupyter/프로젝트/2016/총/2016년 총거래표(5).xlsx')\n",
    "data_2017_5 = pd.read_excel('C:/Users/Innovation/Desktop/김동요/jupyter/프로젝트/2017/총/2017년 총거래표(5).xlsx')\n",
    "data_2018_5 = pd.read_excel('C:/Users/Innovation/Desktop/김동요/jupyter/프로젝트/2018/총/2018년 총거래표(5).xlsx')\n",
    "data_2019_5 = pd.read_excel('C:/Users/Innovation/Desktop/김동요/jupyter/프로젝트/2019/총/2019년 총거래표(5).xlsx')\n",
    "\n",
    "total_data_5 = [data_2015_5, data_2016_5, data_2017_5, data_2018_5, data_2019_5]\n",
    "\n",
    "# 국산 \n",
    "data_2015_5_domestic = pd.read_excel('C:/Users/Innovation/Desktop/김동요/jupyter/프로젝트/2015/국산/2015년 국산거래표(5).xlsx')\n",
    "data_2016_5_domestic = pd.read_excel('C:/Users/Innovation/Desktop/김동요/jupyter/프로젝트/2016/국산/2016년 국산거래표(5).xlsx')\n",
    "data_2017_5_domestic = pd.read_excel('C:/Users/Innovation/Desktop/김동요/jupyter/프로젝트/2017/국산/2017년 국산거래표(5).xlsx')\n",
    "data_2018_5_domestic = pd.read_excel('C:/Users/Innovation/Desktop/김동요/jupyter/프로젝트/2018/국산/2018년 국산거래표(5).xlsx')\n",
    "data_2019_5_domestic = pd.read_excel('C:/Users/Innovation/Desktop/김동요/jupyter/프로젝트/2019/국산/2019년 국산거래표(5).xlsx')\n",
    "\n",
    "\n",
    "total_data_5_domestic = [data_2015_5_domestic, data_2016_5_domestic, data_2017_5_domestic, data_2018_5_domestic, data_2019_5_domestic]"
   ]
  },
  {
   "cell_type": "code",
   "execution_count": null,
   "id": "a1c51d93",
   "metadata": {},
   "outputs": [],
   "source": [
    "# 산업연관표 데이터 \n",
    "\n",
    "# 맥용\n",
    "data_2015_5 = pd.read_excel('/Users/dongyokim/main/jupyter/2022:Summer/프로젝트/2015/총/2015년 총거래표(5).xlsx')\n",
    "data_2016_5 = pd.read_excel('/Users/dongyokim/main/jupyter/2022:Summer/프로젝트/2016/총/2016년 총거래표(5).xlsx')\n",
    "data_2017_5 = pd.read_excel('/Users/dongyokim/main/jupyter/2022:Summer/프로젝트/2017/총/2017년 총거래표(5).xlsx')\n",
    "data_2018_5 = pd.read_excel('/Users/dongyokim/main/jupyter/2022:Summer/프로젝트/2018/총/2018년 총거래표(5).xlsx')\n",
    "data_2019_5 = pd.read_excel('/Users/dongyokim/main/jupyter/2022:Summer/프로젝트/2019/총/2019년 총거래표(5).xlsx')\n",
    "\n",
    "total_data_5 = [data_2015_5, data_2016_5, data_2017_5, data_2018_5, data_2019_5]"
   ]
  },
  {
   "cell_type": "markdown",
   "id": "d7a23e22",
   "metadata": {},
   "source": [
    "---"
   ]
  },
  {
   "cell_type": "code",
   "execution_count": 126,
   "id": "a2a9a3d2",
   "metadata": {},
   "outputs": [],
   "source": [
    "# 인덱스 설정 및 수정\n",
    "for i in range(5):\n",
    "    total_data[i].rename(columns={'Unnamed: 0':'상품분류'}, inplace=True)\n",
    "    total_data[i].set_index('상품분류', inplace=True)\n",
    "    \n",
    "    total_data_domestic[i].rename(columns={'Unnamed: 0':'상품분류'}, inplace=True)\n",
    "    total_data_domestic[i].set_index('상품분류', inplace=True)\n",
    "    \n",
    "    total_data_5[i].rename(columns={'Unnamed: 0':'상품분류'}, inplace=True)\n",
    "    total_data_5[i].set_index('상품분류', inplace=True)\n",
    "    \n",
    "    total_data_5_domestic[i].rename(columns={'Unnamed: 0':'상품분류'}, inplace=True)\n",
    "    total_data_5_domestic[i].set_index('상품분류', inplace=True)"
   ]
  },
  {
   "cell_type": "markdown",
   "id": "b3fdbc0d",
   "metadata": {},
   "source": [
    "---"
   ]
  },
  {
   "cell_type": "markdown",
   "id": "a9bc43cc",
   "metadata": {},
   "source": [
    "## 2. 공간정보산업의 산업구조 "
   ]
  },
  {
   "cell_type": "markdown",
   "id": "12e97e17",
   "metadata": {},
   "source": [
    "### 1) 산업 규모 및 변화"
   ]
  },
  {
   "cell_type": "markdown",
   "id": "dc869598",
   "metadata": {},
   "source": [
    "- 2015~2019년 전체 산업 규모"
   ]
  },
  {
   "cell_type": "code",
   "execution_count": null,
   "id": "b3fcead7",
   "metadata": {},
   "outputs": [],
   "source": [
    "# 연도\n",
    "year = 2015\n",
    "data_list_1 = []\n",
    "data_list_2 = []\n",
    "\n",
    "for data in total_data:\n",
    "    # 중간수요\n",
    "    middle_demand = data.loc['중간투입계', '중간수요계']\n",
    "\n",
    "    # 최종수요 \n",
    "    final_demand = data.loc['중간투입계', '최종수요계']\n",
    "\n",
    "    # 총수요 \n",
    "    total_demand = data.loc['중간투입계', '총수요계']\n",
    "    \n",
    "    \n",
    "    # 중간 투입\n",
    "    middle_input = data.loc['중간투입계', '중간수요계']\n",
    "    \n",
    "    # 부가가치\n",
    "    added_value = data.loc['부가가치계', '중간수요계']\n",
    "    \n",
    "    # 수입계\n",
    "    total_income = data.loc['중간투입계', '수입계']\n",
    "    \n",
    "    \n",
    "    # 총공급 \n",
    "    total_supply = data.loc['중간투입계', '총공급계']\n",
    "    \n",
    "    \n",
    "    data_list_1.append([str(year), middle_demand, final_demand, total_demand])\n",
    "    data_list_2.append([str(year), middle_input, added_value, total_income, total_supply])\n",
    "    \n",
    "    year += 1 \n",
    "\n",
    "\n",
    "    \n",
    "    \n",
    "industry_scale_data_1 = pd.DataFrame(data=data_list_1, columns=['연도', '중간수요', '최종수요','총수요'])\n",
    "    \n",
    "industry_scale_data_2 = pd.DataFrame(data=data_list_2, columns=['연도', '중간투입', '부가가치','수입계', '총공급'])\n",
    "\n",
    "industry_scale_data_1"
   ]
  },
  {
   "cell_type": "code",
   "execution_count": null,
   "id": "d58f2e7e",
   "metadata": {},
   "outputs": [],
   "source": [
    "industry_scale_data_2"
   ]
  },
  {
   "cell_type": "code",
   "execution_count": null,
   "id": "144acbc0",
   "metadata": {},
   "outputs": [],
   "source": [
    "# 2015~2019년 전체 산업 규모 데이터 저장 \n",
    "# industry_scale_data_1.to_excel('2015~2019 전산업 규모_1.xlsx')\n",
    "# industry_scale_data_2.to_excel('2015~2019 전산업 규모_2.xlsx')"
   ]
  },
  {
   "cell_type": "code",
   "execution_count": null,
   "id": "4e34d2a2",
   "metadata": {},
   "outputs": [],
   "source": [
    "f, ax = plt.subplots(1,3)\n",
    "f.suptitle('2015~2019년 전체 산업 규모', size=25)\n",
    "\n",
    "\n",
    "# 격자 크기 설정 \n",
    "f.set_size_inches((33, 10))\n",
    "\n",
    "# 격자 여백 설정\n",
    "plt.subplots_adjust(wspace=0.3, hspace=0.3)\n",
    "\n",
    "\n",
    "ax[0].plot(industry_scale_data_1['연도'], industry_scale_data_1['중간수요'], color='r', marker='o')\n",
    "ax[0].set_title('연도별 중간수요', fontsize=20)\n",
    "\n",
    "\n",
    "ax[1].plot(industry_scale_data_1['연도'], industry_scale_data_1['최종수요'], marker='o')\n",
    "ax[1].set_title('연도별 최종수요', fontsize=20)\n",
    "\n",
    "ax[2].plot(industry_scale_data_1['연도'], industry_scale_data_1['총수요'], color='y', marker='o')\n",
    "ax[2].set_title('연도별 총수요', fontsize=20)\n",
    "\n",
    "plt.show()"
   ]
  },
  {
   "cell_type": "code",
   "execution_count": null,
   "id": "a03c36e5",
   "metadata": {},
   "outputs": [],
   "source": [
    "f, ax = plt.subplots(2,2)\n",
    "f.suptitle('2015~2019년 전체 산업 규모', size=25)\n",
    "\n",
    "# 격자 크기 설정 \n",
    "f.set_size_inches((20, 20))\n",
    "\n",
    "# 격자 여백 설정\n",
    "plt.subplots_adjust(wspace=0.4, hspace=0.4)\n",
    "\n",
    "\n",
    "ax[0, 0].plot(industry_scale_data_2['연도'], industry_scale_data_2['중간투입'], color='r', marker='o')\n",
    "ax[0, 0].set_title('연도별 중간투입', fontsize=20)\n",
    "\n",
    "ax[0, 1].plot(industry_scale_data_2['연도'], industry_scale_data_2['부가가치'], marker='o')\n",
    "ax[0, 1].set_title('연도별 부가가치', fontsize=20)\n",
    "\n",
    "ax[1, 0].plot(industry_scale_data_2['연도'], industry_scale_data_2['수입계'], color='y', marker='o')\n",
    "ax[1, 0].set_title('연도별 수입계', fontsize=20)\n",
    "\n",
    "ax[1, 1].plot(industry_scale_data_2['연도'], industry_scale_data_2['총공급'], color='g', marker='o')\n",
    "ax[1, 1].set_title('연도별 총공급', fontsize=20)\n",
    "\n",
    "\n",
    "plt.show()"
   ]
  },
  {
   "cell_type": "markdown",
   "id": "bcaeeac2",
   "metadata": {},
   "source": [
    "---\n",
    "- 연도별 공간정보산업의 규모(25개 산업분류)"
   ]
  },
  {
   "cell_type": "code",
   "execution_count": null,
   "id": "7534d297",
   "metadata": {},
   "outputs": [],
   "source": [
    "total_data_list_25= []\n",
    "\n",
    "for data in total_data:\n",
    "    \n",
    "    \n",
    "    df = pd.DataFrame(data=[], columns=['산업명', '중간수요', '최종수요', '총수요', '중간투입', '부가가치', '총투입(=총산출)', '수입계', '총공급'])\n",
    "\n",
    "    \n",
    "    # 산업별 이름 \n",
    "    industry_name_25 = list(data.index.values[:25])\n",
    "    industry_name_25.append('총계')\n",
    "    industry_name_25 = np.array(industry_name_25)    \n",
    "    df['산업명'] = industry_name_25\n",
    "    \n",
    "    df.set_index('산업명', inplace=True)\n",
    "    \n",
    "    # 산업별 중간수요\n",
    "    middle_demand_25 = data.loc[:'중간투입계', '중간수요계'].values\n",
    "    df['중간수요'] = middle_demand_25\n",
    "\n",
    "    # 산업별 최종수요\n",
    "    final_demand_25 = data.loc[:'중간투입계', '최종수요계'].values\n",
    "    df['최종수요'] = final_demand_25\n",
    "\n",
    "    # 산업별 총수요계\n",
    "    total_demand_25 =  data.loc[:'중간투입계', '총수요계'].values\n",
    "    df['총수요'] = total_demand_25\n",
    "\n",
    "    # 산업별 중간투입 \n",
    "    middle_input_25 = data.loc['중간투입계', :'중간수요계'].values\n",
    "    df['중간투입'] = middle_input_25\n",
    "\n",
    "    # 산업별 부가가치\n",
    "    added_value_25 = data.loc['부가가치계', :'중간수요계'].values\n",
    "    df['부가가치']= added_value_25\n",
    "\n",
    "    # 산업별 총투입계\n",
    "    total_input_25 = data.loc['총투입계', :'중간수요계'].values\n",
    "    df['총투입(=총산출)'] = total_input_25\n",
    "\n",
    "    # 산업별 수입계\n",
    "    total_income_25 = data.loc[:'중간투입계', '수입계'].values\n",
    "    df['수입계'] = total_income_25\n",
    "\n",
    "    # 산업별 총공급 \n",
    "    total_supply_25 = data.loc[:'중간투입계', '총공급계'].values\n",
    "    df['총공급'] = total_supply_25\n",
    "    \n",
    "    total_data_list_25.append(df)\n",
    "    \n",
    "# 연도별 산업구조 수치 \n",
    "struc_data_2015 = total_data_list_25[0]\n",
    "struc_data_2016 = total_data_list_25[1]\n",
    "struc_data_2017 = total_data_list_25[2]\n",
    "struc_data_2018 = total_data_list_25[3]\n",
    "struc_data_2019 = total_data_list_25[4]\n",
    "\n",
    "total_struc_data = [struc_data_2015, struc_data_2016, struc_data_2017, struc_data_2018, struc_data_2019]\n",
    "\n",
    "total_data_list_25_per = []\n",
    "for data in total_struc_data:\n",
    "    df = data / data.loc['총계', :].values\n",
    "    total_data_list_25_per.append(df)\n",
    "    \n",
    "    \n",
    "# 연도별 산업구조 비중 \n",
    "struc_data_2015_per = total_data_list_25_per[0]\n",
    "struc_data_2016_per = total_data_list_25_per[1]\n",
    "struc_data_2017_per = total_data_list_25_per[2]\n",
    "struc_data_2018_per = total_data_list_25_per[3]\n",
    "struc_data_2019_per = total_data_list_25_per[4]\n",
    "\n",
    "total_struc_data_per = [struc_data_2015_per, struc_data_2016_per, struc_data_2017_per, struc_data_2018_per, struc_data_2019_per]"
   ]
  },
  {
   "cell_type": "markdown",
   "id": "70e227a8",
   "metadata": {},
   "source": [
    "---\n",
    "연도별 공간정보산업의 규모(5개 산업분류)"
   ]
  },
  {
   "cell_type": "code",
   "execution_count": null,
   "id": "add76bd6",
   "metadata": {},
   "outputs": [],
   "source": [
    "total_data_list_5= []\n",
    "\n",
    "for data in total_data_5:\n",
    "    \n",
    "    \n",
    "    df = pd.DataFrame(data=[], columns=['산업명', '중간수요', '최종수요', '총수요', '중간투입', '부가가치', '총투입(=총산출)', '수입계', '총공급'])\n",
    "\n",
    "    \n",
    "    # 산업별 이름 \n",
    "    industry_name_5 = list(data.index.values[:5])\n",
    "    industry_name_5.append('총계')\n",
    "    industry_name_5 = np.array(industry_name_5)    \n",
    "    df['산업명'] = industry_name_5\n",
    "    \n",
    "    df.set_index('산업명', inplace=True)\n",
    "    \n",
    "    # 산업별 중간수요\n",
    "    middle_demand_5 = data.loc[:'중간투입계', '중간수요계'].values\n",
    "    df['중간수요'] = middle_demand_5\n",
    "\n",
    "    # 산업별 최종수요\n",
    "    final_demand_5 = data.loc[:'중간투입계', '최종수요계'].values\n",
    "    df['최종수요'] = final_demand_5\n",
    "\n",
    "    # 산업별 총수요계\n",
    "    total_demand_5 =  data.loc[:'중간투입계', '총수요계'].values\n",
    "    df['총수요'] = total_demand_5\n",
    "\n",
    "    # 산업별 중간투입 \n",
    "    middle_input_5 = data.loc['중간투입계', :'중간수요계'].values\n",
    "    df['중간투입'] = middle_input_5\n",
    "\n",
    "    # 산업별 부가가치\n",
    "    added_value_5 = data.loc['부가가치계', :'중간수요계'].values\n",
    "    df['부가가치']= added_value_5\n",
    "\n",
    "    # 산업별 총투입계\n",
    "    total_input_5 = data.loc['총투입계', :'중간수요계'].values\n",
    "    df['총투입(=총산출)'] = total_input_5\n",
    "\n",
    "    # 산업별 수입계\n",
    "    total_income_5 = data.loc[:'중간투입계', '수입계'].values\n",
    "    df['수입계'] = total_income_5\n",
    "\n",
    "    # 산업별 총공급 \n",
    "    total_supply_5 = data.loc[:'중간투입계', '총공급계'].values\n",
    "    df['총공급'] = total_supply_5\n",
    "    \n",
    "    total_data_list_5.append(df)\n",
    "\n",
    "# 연도별 산업구조 수치 \n",
    "struc_data_2015_5 = total_data_list_5[0]\n",
    "struc_data_2016_5 = total_data_list_5[1]\n",
    "struc_data_2017_5 = total_data_list_5[2]\n",
    "struc_data_2018_5 = total_data_list_5[3]\n",
    "struc_data_2019_5 = total_data_list_5[4]\n",
    "\n",
    "total_struc_data_5 = [struc_data_2015_5, struc_data_2016_5, struc_data_2017_5, struc_data_2018_5, struc_data_2019_5]\n",
    "\n",
    "# 연도별 산업구조 비중 \n",
    "\n",
    "\n",
    "total_data_list_5_per = []\n",
    "for data in total_struc_data_5:\n",
    "    df = data / data.loc['총계', :].values\n",
    "    total_data_list_5_per.append(df)\n",
    "    \n",
    "    \n",
    "struc_data_2015_5_per = total_data_list_5_per[0]\n",
    "struc_data_2016_5_per = total_data_list_5_per[1]\n",
    "struc_data_2017_5_per = total_data_list_5_per[2]\n",
    "struc_data_2018_5_per = total_data_list_5_per[3]\n",
    "struc_data_2019_5_per = total_data_list_5_per[4]\n",
    "\n",
    "total_struc_data_5_per = [struc_data_2015_5_per, struc_data_2016_5_per, struc_data_2017_5_per, struc_data_2018_5_per, struc_data_2019_5_per]"
   ]
  },
  {
   "cell_type": "markdown",
   "id": "cb654a6e",
   "metadata": {},
   "source": [
    "---"
   ]
  },
  {
   "cell_type": "markdown",
   "id": "f58fe74e",
   "metadata": {},
   "source": [
    "- 2015년 공간정보산업의 규모(25개 산업분류) "
   ]
  },
  {
   "cell_type": "code",
   "execution_count": null,
   "id": "1d87cc3f",
   "metadata": {},
   "outputs": [],
   "source": [
    "# 2015년 기준 수치\n",
    "struc_data_2015"
   ]
  },
  {
   "cell_type": "code",
   "execution_count": null,
   "id": "c8155a46",
   "metadata": {},
   "outputs": [],
   "source": [
    "# 2015년 기준 비중\n",
    "struc_data_2015_per"
   ]
  },
  {
   "cell_type": "markdown",
   "id": "0a4dca02",
   "metadata": {},
   "source": [
    "---\n",
    "- 2015년 공간정보산업의 규모(5개 산업분류) "
   ]
  },
  {
   "cell_type": "code",
   "execution_count": null,
   "id": "cc17ae76",
   "metadata": {},
   "outputs": [],
   "source": [
    "# 2015년 기준 수치\n",
    "struc_data_2015_5"
   ]
  },
  {
   "cell_type": "code",
   "execution_count": null,
   "id": "a69a37d0",
   "metadata": {},
   "outputs": [],
   "source": [
    "# 2015년 기준 비중\n",
    "struc_data_2015_5_per"
   ]
  },
  {
   "cell_type": "markdown",
   "id": "cbb1345f",
   "metadata": {},
   "source": [
    "---"
   ]
  },
  {
   "cell_type": "markdown",
   "id": "f2d03480",
   "metadata": {},
   "source": [
    "- 2016년 공간정보산업의 규모(25개 산업분류) "
   ]
  },
  {
   "cell_type": "code",
   "execution_count": null,
   "id": "96f27b2d",
   "metadata": {},
   "outputs": [],
   "source": [
    "# 2016년 기준 수치\n",
    "struc_data_2016"
   ]
  },
  {
   "cell_type": "code",
   "execution_count": null,
   "id": "fbc7f667",
   "metadata": {},
   "outputs": [],
   "source": [
    "# 2016년 기준 비중\n",
    "struc_data_2016_per"
   ]
  },
  {
   "cell_type": "markdown",
   "id": "86e53358",
   "metadata": {},
   "source": [
    "---\n",
    "- 2016년 공간정보산업의 규모(5개 산업분류) "
   ]
  },
  {
   "cell_type": "code",
   "execution_count": null,
   "id": "bd591180",
   "metadata": {},
   "outputs": [],
   "source": [
    "# 2016년 기준 수치\n",
    "struc_data_2016_5"
   ]
  },
  {
   "cell_type": "code",
   "execution_count": null,
   "id": "4e4d3abc",
   "metadata": {},
   "outputs": [],
   "source": [
    "# 2016년 기준 비중\n",
    "struc_data_2016_5_per"
   ]
  },
  {
   "cell_type": "markdown",
   "id": "98766f26",
   "metadata": {},
   "source": [
    "\n",
    "---"
   ]
  },
  {
   "cell_type": "markdown",
   "id": "01d3c6b2",
   "metadata": {},
   "source": [
    "- 2017년 공간정보산업의 규모(25개 산업분류) "
   ]
  },
  {
   "cell_type": "code",
   "execution_count": null,
   "id": "93c25e4b",
   "metadata": {},
   "outputs": [],
   "source": [
    "# 2017년 기준 수치\n",
    "struc_data_2017"
   ]
  },
  {
   "cell_type": "code",
   "execution_count": null,
   "id": "37734aae",
   "metadata": {},
   "outputs": [],
   "source": [
    "# 2017년 기준 비중\n",
    "struc_data_2017_per"
   ]
  },
  {
   "cell_type": "markdown",
   "id": "46ee282a",
   "metadata": {},
   "source": [
    "---\n",
    "- 2017년 공간정보산업의 규모(5개 산업분류) "
   ]
  },
  {
   "cell_type": "code",
   "execution_count": null,
   "id": "568710d2",
   "metadata": {},
   "outputs": [],
   "source": [
    "# 2017년 기준 수치\n",
    "struc_data_2017_5"
   ]
  },
  {
   "cell_type": "code",
   "execution_count": null,
   "id": "dc47ac7c",
   "metadata": {},
   "outputs": [],
   "source": [
    "# 2017년 기준 비중\n",
    "struc_data_2017_5_per"
   ]
  },
  {
   "cell_type": "markdown",
   "id": "f384c63f",
   "metadata": {},
   "source": [
    "---\n",
    "- 2018년 공간정보산업의 규모(25개 산업분류) "
   ]
  },
  {
   "cell_type": "code",
   "execution_count": null,
   "id": "48613848",
   "metadata": {},
   "outputs": [],
   "source": [
    "# 2018년 기준 수치\n",
    "struc_data_2018"
   ]
  },
  {
   "cell_type": "code",
   "execution_count": null,
   "id": "bf136788",
   "metadata": {},
   "outputs": [],
   "source": [
    "# 2018년 기준 비중\n",
    "struc_data_2018_per"
   ]
  },
  {
   "cell_type": "markdown",
   "id": "d566036d",
   "metadata": {},
   "source": [
    "---\n",
    "- 2018년 공간정보산업의 규모(5개 산업분류) "
   ]
  },
  {
   "cell_type": "code",
   "execution_count": null,
   "id": "39147a3f",
   "metadata": {},
   "outputs": [],
   "source": [
    "# 2018년 기준 수치\n",
    "struc_data_2018_5"
   ]
  },
  {
   "cell_type": "code",
   "execution_count": null,
   "id": "05b72e4a",
   "metadata": {},
   "outputs": [],
   "source": [
    "# 2018년 기준 비중\n",
    "struc_data_2018_5_per"
   ]
  },
  {
   "cell_type": "markdown",
   "id": "15aafb9c",
   "metadata": {},
   "source": [
    "---\n",
    "- 2019년 공간정보산업의 규모(25개 산업분류) \n"
   ]
  },
  {
   "cell_type": "code",
   "execution_count": null,
   "id": "96411917",
   "metadata": {},
   "outputs": [],
   "source": [
    "# 2019년 기준 수치\n",
    "struc_data_2019"
   ]
  },
  {
   "cell_type": "code",
   "execution_count": null,
   "id": "6e745292",
   "metadata": {
    "scrolled": true
   },
   "outputs": [],
   "source": [
    "# 2019년 기준 비중\n",
    "struc_data_2019_per"
   ]
  },
  {
   "cell_type": "markdown",
   "id": "05b1fa9d",
   "metadata": {},
   "source": [
    "---\n",
    "- 2019년 공간정보산업의 규모(5개 산업분류) "
   ]
  },
  {
   "cell_type": "code",
   "execution_count": null,
   "id": "5ecea7ef",
   "metadata": {},
   "outputs": [],
   "source": [
    "# 2019년 기준 수치\n",
    "struc_data_2019_5"
   ]
  },
  {
   "cell_type": "code",
   "execution_count": null,
   "id": "0da73f11",
   "metadata": {
    "scrolled": true
   },
   "outputs": [],
   "source": [
    "# 2019년 기준 비중\n",
    "struc_data_2019_5_per"
   ]
  },
  {
   "cell_type": "markdown",
   "id": "cf80fd6f",
   "metadata": {},
   "source": [
    "---"
   ]
  },
  {
   "cell_type": "code",
   "execution_count": null,
   "id": "72d37df1",
   "metadata": {},
   "outputs": [],
   "source": [
    "# 연도별  공간정보산업 규모 데이터 저장 (25)\n",
    "\n",
    "year = 2015\n",
    "for data, data_per in zip(total_struc_data, total_struc_data_per):\n",
    "    data.to_excel('{}년 공간정보산업 규모(25).xlsx'.format(year))\n",
    "    data_per.to_excel('{}년 공간정보산업 비중(25).xlsx'.format(year))\n",
    "    year += 1 "
   ]
  },
  {
   "cell_type": "code",
   "execution_count": null,
   "id": "e631be66",
   "metadata": {},
   "outputs": [],
   "source": [
    "# 연도별  공간정보산업 규모 데이터 저장 (5)\n",
    "\n",
    "year = 2015\n",
    "for data, data_per in zip(total_struc_data_5, total_struc_data_5_per):\n",
    "    data.to_excel('{}년 공간정보산업 규모(5).xlsx'.format(year))\n",
    "    data_per.to_excel('{}년 공간정보산업 비중(5).xlsx'.format(year))\n",
    "    year += 1 "
   ]
  },
  {
   "cell_type": "markdown",
   "id": "20531734",
   "metadata": {},
   "source": [
    "---"
   ]
  },
  {
   "cell_type": "markdown",
   "id": "3b0af8cf",
   "metadata": {},
   "source": [
    "- 연도별 공간정보산업의 규모 변화"
   ]
  },
  {
   "cell_type": "code",
   "execution_count": null,
   "id": "1be508a0",
   "metadata": {},
   "outputs": [],
   "source": [
    "# 수치\n",
    "total_data_list_spac = []\n",
    "spac_name = list(data_2019.index.values[19:25])\n",
    "\n",
    "for i in spac_name:\n",
    "    year = 2015\n",
    "    df = pd.DataFrame(data=[], columns=['산업명', '연도', '중간수요', '최종수요', '총수요', '중간투입', '부가가치', '총투입(=총산출)', '수입계', '총공급'])\n",
    "    for data in total_struc_data:\n",
    "        # 산업별 중간수요\n",
    "        middle_demand = data.loc[i, '중간수요']\n",
    "        # 산업별 최종수요\n",
    "        final_demand = data.loc[i, '최종수요']\n",
    "        # 산업별 총수요계\n",
    "        total_demand =  data.loc[i, '총수요']    \n",
    "        # 산업별 중간투입 \n",
    "        middle_input = data.loc[i, '중간투입']\n",
    "        # 산업별 부가가치\n",
    "        added_value = data.loc[i, '부가가치']\n",
    "        # 산업별 총투입계\n",
    "        total_input = data.loc[i,'총투입(=총산출)']\n",
    "        # 산업별 수입계\n",
    "        total_income = data.loc[i, '수입계']\n",
    "        # 산업별 총공급 \n",
    "        total_supply = data.loc[i, '총공급']   \n",
    "        df.loc[len(df)] = [i, year,middle_demand,final_demand, total_demand, middle_input, added_value, total_input, total_income, total_supply]\n",
    "        year += 1\n",
    "    total_data_list_spac.append(df)\n",
    "\n",
    "    \n",
    "year = 2015\n",
    "i = '공간정보산업'\n",
    "df = pd.DataFrame(data=[], columns=['산업명', '연도', '중간수요', '최종수요', '총수요', '중간투입', '부가가치', '총투입(=총산출)', '수입계', '총공급']) \n",
    "for data in total_struc_data_5:\n",
    "    # 산업별 중간수요\n",
    "    middle_demand = data.loc[i, '중간수요']\n",
    "    # 산업별 최종수요\n",
    "    final_demand = data.loc[i, '최종수요']\n",
    "    # 산업별 총수요계\n",
    "    total_demand =  data.loc[i, '총수요']    \n",
    "    # 산업별 중간투입 \n",
    "    middle_input = data.loc[i, '중간투입']\n",
    "    # 산업별 부가가치\n",
    "    added_value = data.loc[i, '부가가치']\n",
    "    # 산업별 총투입계\n",
    "    total_input = data.loc[i, '총투입(=총산출)']\n",
    "    # 산업별 수입계\n",
    "    total_income = data.loc[i, '수입계']\n",
    "    # 산업별 총공급 \n",
    "    total_supply = data.loc[i, '총공급']   \n",
    "    df.loc[len(df)] = [i, year,middle_demand,final_demand, total_demand, middle_input, added_value, total_input, total_income, total_supply]\n",
    "    year += 1\n",
    "\n",
    "total_data_list_spac.append(df)\n",
    "    "
   ]
  },
  {
   "cell_type": "code",
   "execution_count": null,
   "id": "bcb8247d",
   "metadata": {},
   "outputs": [],
   "source": [
    "# 비중 \n",
    "total_data_list_spac_per = []\n",
    "spac_name = list(data_2019.index.values[19:25])\n",
    "\n",
    "for i in spac_name:\n",
    "    year = 2015\n",
    "    df = pd.DataFrame(data=[], columns=['산업명', '연도', '중간수요', '최종수요', '총수요', '중간투입', '부가가치', '총투입(=총산출)', '수입계', '총공급'])\n",
    "    for data in total_struc_data:\n",
    "        # 산업별 중간수요\n",
    "        middle_demand = data.loc[i, '중간수요'] / data.loc['총계', '중간수요']\n",
    "        # 산업별 최종수요\n",
    "        final_demand = data.loc[i, '최종수요'] / data.loc['총계', '최종수요']\n",
    "        # 산업별 총수요계\n",
    "        total_demand =  data.loc[i, '총수요'] / data.loc['총계', '총수요']\n",
    "        # 산업별 중간투입 \n",
    "        middle_input = data.loc[i, '중간투입'] / data.loc['총계', '중간투입']\n",
    "        # 산업별 부가가치\n",
    "        added_value = data.loc[i, '부가가치'] / data.loc['총계', '부가가치']\n",
    "        # 산업별 총투입계\n",
    "        total_input = data.loc[i,'총투입(=총산출)'] / data.loc['총계','총투입(=총산출)']\n",
    "        # 산업별 수입계\n",
    "        total_income = data.loc[i, '수입계'] / data.loc['총계', '수입계']\n",
    "        # 산업별 총공급 \n",
    "        total_supply = data.loc[i, '총공급'] / data.loc['총계', '총공급'] \n",
    "        df.loc[len(df)] = [i, year,middle_demand,final_demand, total_demand, middle_input, added_value, total_input, total_income, total_supply]\n",
    "        year += 1\n",
    "    total_data_list_spac_per.append(df)\n",
    "\n",
    "    \n",
    "year = 2015\n",
    "i = '공간정보산업'\n",
    "df = pd.DataFrame(data=[], columns=['산업명', '연도', '중간수요', '최종수요', '총수요', '중간투입', '부가가치', '총투입(=총산출)', '수입계', '총공급']) \n",
    "for data in total_struc_data_5:\n",
    "    # 산업별 중간수요\n",
    "    middle_demand = data.loc[i, '중간수요'] / data.loc['총계', '중간수요']\n",
    "    # 산업별 최종수요\n",
    "    final_demand = data.loc[i, '최종수요'] / data.loc['총계', '최종수요']\n",
    "    # 산업별 총수요계\n",
    "    total_demand =  data.loc[i, '총수요'] / data.loc['총계', '총수요'] \n",
    "    # 산업별 중간투입 \n",
    "    middle_input = data.loc[i, '중간투입'] / data.loc['총계', '중간투입']\n",
    "    # 산업별 부가가치\n",
    "    added_value = data.loc[i, '부가가치'] / data.loc['총계', '부가가치']\n",
    "    # 산업별 총투입계\n",
    "    total_input = data.loc[i, '총투입(=총산출)'] / data.loc['총계', '총투입(=총산출)']\n",
    "    # 산업별 수입계\n",
    "    total_income = data.loc[i, '수입계'] / data.loc['총계', '수입계']\n",
    "    # 산업별 총공급 \n",
    "    total_supply = data.loc[i, '총공급'] / data.loc['총계', '총공급'] \n",
    "    df.loc[len(df)] = [i, year,middle_demand,final_demand, total_demand, middle_input, added_value, total_input, total_income, total_supply]\n",
    "    year += 1\n",
    "\n",
    "total_data_list_spac_per.append(df)\n",
    "    "
   ]
  },
  {
   "cell_type": "markdown",
   "id": "33053319",
   "metadata": {},
   "source": [
    "- 연도별 공간정보산업의 규모 변화(수치)"
   ]
  },
  {
   "cell_type": "code",
   "execution_count": null,
   "id": "58a8aa28",
   "metadata": {
    "scrolled": false
   },
   "outputs": [],
   "source": [
    "year_spac_data = pd.concat([total_data_list_spac[i] for i in range(7)], axis=0).reset_index(drop=True)\n",
    "year_spac_data.set_index(['산업명', '연도'], inplace=True)\n",
    "\n",
    "year_spac_data"
   ]
  },
  {
   "cell_type": "markdown",
   "id": "c807ef9b",
   "metadata": {},
   "source": [
    "- 연도별 공간정보산업의 규모 변화(비중)"
   ]
  },
  {
   "cell_type": "code",
   "execution_count": null,
   "id": "986fef3f",
   "metadata": {},
   "outputs": [],
   "source": [
    "year_spac_data_per = pd.concat([total_data_list_spac_per[i] for i in range(7)], axis=0).reset_index(drop=True)\n",
    "year_spac_data_per.set_index(['산업명', '연도'], inplace=True)\n",
    "\n",
    "year_spac_data_per"
   ]
  },
  {
   "cell_type": "code",
   "execution_count": null,
   "id": "13b2bac8",
   "metadata": {},
   "outputs": [],
   "source": [
    "# 데이터 저장 \n",
    "year_spac_data.to_excel('연도별 공간정보산업 규모변화(수치).xlsx')\n",
    "\n",
    "year_spac_data_per.to_excel('연도별 공간정보산업 규모변화(비중).xlsx')"
   ]
  },
  {
   "cell_type": "markdown",
   "id": "100de262",
   "metadata": {},
   "source": [
    "---"
   ]
  },
  {
   "cell_type": "markdown",
   "id": "0467a72f",
   "metadata": {},
   "source": [
    "## 3. 공간정보산업의 경제적 구조 및 변화 \n",
    "\n",
    "### 1) 경제적 구조 "
   ]
  },
  {
   "cell_type": "code",
   "execution_count": null,
   "id": "6e3f6223",
   "metadata": {},
   "outputs": [],
   "source": [
    "# 중간투입률, 부가가치율, 중간수요율, 최종수요율, 최종수요율, 수출율, 수입계수 \n",
    "def eco_struc(data, metrix_num):\n",
    "    \n",
    "    df = pd.DataFrame(data=[], columns=['산업명', '중간투입률', '부가가치율', '중간수요율', '최종수요율', '수출율', '수입계수'])\n",
    "    \n",
    "    industry_name = data.index.values[:metrix_num]\n",
    " \n",
    "    df['산업명'] = industry_name\n",
    "    df.set_index('산업명', inplace=True)\n",
    "    \n",
    "    \n",
    "    for i in industry_name:\n",
    "        # 산업별 중간투입률 = 중간투입 / 총투입액(=총산출액) \n",
    "        middle_input_per = data.loc['중간투입계', i] / data.loc['총투입계', i]\n",
    "        df.loc[i, '중간투입률'] = middle_input_per\n",
    "\n",
    "\n",
    "        # 산업별 부가가치율 = 부가가치 / 총투입액(=총산출액)\n",
    "        added_value_per = data.loc['부가가치계', i] / data.loc['총투입계', i] \n",
    "        df.loc[i, '부가가치율'] = added_value_per\n",
    "\n",
    "        # 산업별 중간수요율 = 중간수요 / 총수요\n",
    "        middle_demand_per = data.loc[i, '중간수요계'] / data.loc[i, '총수요계']\n",
    "        df.loc[i, '중간수요율'] = middle_demand_per\n",
    "        \n",
    "        # 산업별 최종수요율 = 최종수요 / 총수요\n",
    "        final_demand_per = data.loc[i, '최종수요계'] / data.loc[i, '총수요계']\n",
    "        df.loc[i, '최종수요율'] = final_demand_per\n",
    "\n",
    "        # 산업별 수출율 = 수출 / 총산출액(=총투입액)\n",
    "        export_per =  data.loc[i, '수출'] / data.loc[i, '총산출']\n",
    "        df.loc[i, '수출율'] = export_per\n",
    "        \n",
    "        # 산업별 수입계수 = 수입 / 총공급액 \n",
    "        # 수입인지 수입계인지 확인 요망 \n",
    "        total_income_per = data.loc[i, '수입계'] / data.loc[i, '총공급계']\n",
    "        df.loc[i, '수입계수'] = total_income_per\n",
    "\n",
    "\n",
    "    return df \n",
    "    \n",
    "    \n"
   ]
  },
  {
   "cell_type": "code",
   "execution_count": null,
   "id": "965a752e",
   "metadata": {},
   "outputs": [],
   "source": [
    "# 연도별 경제적 구조 묶음 리스트 생성 \n",
    "total_eco_struc_25 = []\n",
    "total_eco_struc_5 = []\n",
    "for data_25, data_5 in zip(total_data, total_data_5):\n",
    "    eco_struc_25 = eco_struc(data_25, 25)\n",
    "    eco_struc_5 = eco_struc(data_5, 5)\n",
    "    \n",
    "    total_eco_struc_25.append(eco_struc_25)\n",
    "    total_eco_struc_5.append(eco_struc_5) "
   ]
  },
  {
   "cell_type": "markdown",
   "id": "64f974ac",
   "metadata": {},
   "source": [
    "---"
   ]
  },
  {
   "cell_type": "markdown",
   "id": "68d43485",
   "metadata": {},
   "source": [
    "- 2015년 공간정보산업의 경제적 구조 (25개 산업분류)"
   ]
  },
  {
   "cell_type": "code",
   "execution_count": null,
   "id": "6300d305",
   "metadata": {},
   "outputs": [],
   "source": [
    "total_eco_struc_25[0]"
   ]
  },
  {
   "cell_type": "markdown",
   "id": "a7a3be41",
   "metadata": {},
   "source": [
    "- 2015년 공간정보산업의 경제적 구조 (5개 산업분류)"
   ]
  },
  {
   "cell_type": "code",
   "execution_count": null,
   "id": "8000f461",
   "metadata": {},
   "outputs": [],
   "source": [
    "total_eco_struc_5[0]"
   ]
  },
  {
   "cell_type": "markdown",
   "id": "7604cd05",
   "metadata": {},
   "source": [
    "---\n",
    "- 2016년 공간정보산업의 경제적 구조 (25개 산업분류)"
   ]
  },
  {
   "cell_type": "code",
   "execution_count": null,
   "id": "81ded201",
   "metadata": {},
   "outputs": [],
   "source": [
    "total_eco_struc_25[1]"
   ]
  },
  {
   "cell_type": "markdown",
   "id": "2d9227d6",
   "metadata": {},
   "source": [
    "- 2016년 공간정보산업의 경제적 구조 (5개 산업분류)"
   ]
  },
  {
   "cell_type": "code",
   "execution_count": null,
   "id": "a0f921ca",
   "metadata": {},
   "outputs": [],
   "source": [
    "total_eco_struc_5[1]"
   ]
  },
  {
   "cell_type": "markdown",
   "id": "c98b396a",
   "metadata": {},
   "source": [
    "---\n",
    "- 2017년 공간정보산업의 경제적 구조 (25개 산업분류)"
   ]
  },
  {
   "cell_type": "code",
   "execution_count": null,
   "id": "ec42e957",
   "metadata": {},
   "outputs": [],
   "source": [
    "total_eco_struc_25[2]"
   ]
  },
  {
   "cell_type": "markdown",
   "id": "d25cac93",
   "metadata": {},
   "source": [
    "- 2017년 공간정보산업의 경제적 구조 (5개 산업분류)"
   ]
  },
  {
   "cell_type": "code",
   "execution_count": null,
   "id": "9c17dfe3",
   "metadata": {},
   "outputs": [],
   "source": [
    "total_eco_struc_5[2]"
   ]
  },
  {
   "cell_type": "markdown",
   "id": "dae27dcf",
   "metadata": {},
   "source": [
    "---\n",
    "- 2018년 공간정보산업의 경제적 구조 (25개 산업분류)"
   ]
  },
  {
   "cell_type": "code",
   "execution_count": null,
   "id": "70f44224",
   "metadata": {},
   "outputs": [],
   "source": [
    "total_eco_struc_25[3]"
   ]
  },
  {
   "cell_type": "markdown",
   "id": "416119b4",
   "metadata": {},
   "source": [
    "- 2018년 공간정보산업의 경제적 구조 (5개 산업분류)"
   ]
  },
  {
   "cell_type": "code",
   "execution_count": null,
   "id": "5752d360",
   "metadata": {},
   "outputs": [],
   "source": [
    "total_eco_struc_5[3]"
   ]
  },
  {
   "cell_type": "markdown",
   "id": "77963888",
   "metadata": {},
   "source": [
    "---\n",
    "- 2019년 공간정보산업의 경제적 구조 (25개 산업분류)"
   ]
  },
  {
   "cell_type": "code",
   "execution_count": null,
   "id": "f9451213",
   "metadata": {},
   "outputs": [],
   "source": [
    "total_eco_struc_25[4]"
   ]
  },
  {
   "cell_type": "markdown",
   "id": "43478ed0",
   "metadata": {},
   "source": [
    "- 2019년 공간정보산업의 경제적 구조 (5개 산업분류)"
   ]
  },
  {
   "cell_type": "code",
   "execution_count": null,
   "id": "e53deef9",
   "metadata": {
    "scrolled": false
   },
   "outputs": [],
   "source": [
    "total_eco_struc_5[4]"
   ]
  },
  {
   "cell_type": "markdown",
   "id": "c684422b",
   "metadata": {},
   "source": [
    "---"
   ]
  },
  {
   "cell_type": "code",
   "execution_count": null,
   "id": "d41614fd",
   "metadata": {},
   "outputs": [],
   "source": [
    "# 데이터 저장 \n",
    "year = 2015 \n",
    "for data25, data5 in zip(total_eco_struc_25, total_eco_struc_5):\n",
    "    data25.to_excel('{}년 공간정보산업 경제적 구조(25).xlsx'.format(year))\n",
    "    data5.to_excel('{}년 공간정보산업 경제적 구조(5).xlsx'.format(year))\n",
    "    \n",
    "    year += 1 "
   ]
  },
  {
   "cell_type": "markdown",
   "id": "4e931430",
   "metadata": {},
   "source": [
    "---"
   ]
  },
  {
   "cell_type": "markdown",
   "id": "13ebb887",
   "metadata": {},
   "source": [
    "### 2) 경제적 구조의 변화(추세)"
   ]
  },
  {
   "cell_type": "code",
   "execution_count": null,
   "id": "1247a590",
   "metadata": {},
   "outputs": [],
   "source": [
    "def eco_struc_change(total_data, metrix_num):\n",
    "    df = pd.DataFrame(data=[], columns=['산업명', '연도', '중간투입률', '부가가치율', '중간수요율', '최종수요율', '수출율', '수입계수'])\n",
    "    \n",
    "    if metrix_num == 5:\n",
    "        industry_name = [total_data[0].index.values[metrix_num-1]]\n",
    "    \n",
    "    elif metrix_num == 25:\n",
    "        industry_name = total_data[0].index.values[metrix_num-6:metrix_num]\n",
    "    \n",
    "    \n",
    "    for i in industry_name:\n",
    "        year = 2015\n",
    "        for data in total_data:\n",
    "\n",
    "            \n",
    "            # 산업별 중간투입률 = 중간투입 / 총투입액(=총산출액) \n",
    "            middle_input_per = data.loc[i, '중간투입률'] \n",
    "\n",
    "\n",
    "            # 산업별 부가가치율 = 부가가치 / 총투입액(=총산출액)\n",
    "            added_value_per = data.loc[i, '부가가치율']\n",
    "\n",
    "            # 산업별 중간수요율 = 중간수요 / 총수요\n",
    "            middle_demand_per = data.loc[i, '중간수요율']\n",
    "\n",
    "            # 산업별 최종수요율 = 최종수요 / 총수요\n",
    "            final_demand_per = data.loc[i, '최종수요율']\n",
    "            \n",
    "            # 산업별 수출율 = 수출 / 총산출액(=총투입액)\n",
    "            export_per =  data.loc[i, '수출율']\n",
    "\n",
    "            # 산업별 수입계수 = 수입 / 총공급액 \n",
    "            # 수입인지 수입계인지 확인 요망 \n",
    "            total_income_per = data.loc[i, '수입계수']\n",
    "            \n",
    "            df.loc[len(df)] = [i, year,middle_input_per,added_value_per, middle_demand_per, final_demand_per, export_per, total_income_per]\n",
    "    \n",
    "            year += 1\n",
    "        \n",
    "    df.set_index(['산업명', '연도'], inplace=True)\n",
    "    return df "
   ]
  },
  {
   "cell_type": "code",
   "execution_count": null,
   "id": "3dc0e7fe",
   "metadata": {},
   "outputs": [],
   "source": [
    "# 25개 산업 기준 추이\n",
    "eco_struc_change_data_25 = eco_struc_change(total_eco_struc_25, 25)\n",
    "\n",
    "# 5개 산업 기준 추이\n",
    "eco_struc_change_data_5 = eco_struc_change(total_eco_struc_5, 5)"
   ]
  },
  {
   "cell_type": "markdown",
   "id": "89fd1598",
   "metadata": {},
   "source": [
    "---\n",
    "- 공간정보산업 경제적 구조의 변화 (25개 산업분류)"
   ]
  },
  {
   "cell_type": "code",
   "execution_count": null,
   "id": "ad15c372",
   "metadata": {},
   "outputs": [],
   "source": [
    "eco_struc_change_data_25"
   ]
  },
  {
   "cell_type": "markdown",
   "id": "1170f2f6",
   "metadata": {},
   "source": [
    "- 공간정보산업 경제적 구조의 변화 (5개 산업분류) \n"
   ]
  },
  {
   "cell_type": "code",
   "execution_count": null,
   "id": "cad87ad7",
   "metadata": {
    "scrolled": true
   },
   "outputs": [],
   "source": [
    "eco_struc_change_data_5"
   ]
  },
  {
   "cell_type": "markdown",
   "id": "c011acbc",
   "metadata": {},
   "source": [
    "---"
   ]
  },
  {
   "cell_type": "code",
   "execution_count": null,
   "id": "fae03477",
   "metadata": {},
   "outputs": [],
   "source": [
    "# 데이터 저장 \n",
    "eco_struc_25.to_excel(\"공간정보산업 경제적 구조의 변화(25).xlsx\")\n",
    "\n",
    "\n",
    "eco_struc_5.to_excel(\"공간정보산업 경제적 구조의 변화(5).xlsx\")"
   ]
  },
  {
   "cell_type": "markdown",
   "id": "97ca636d",
   "metadata": {},
   "source": [
    "---"
   ]
  },
  {
   "cell_type": "markdown",
   "id": "88137310",
   "metadata": {},
   "source": [
    "## 4. 공간정보산업의 경제적 효과"
   ]
  },
  {
   "cell_type": "code",
   "execution_count": 115,
   "id": "d164b376",
   "metadata": {},
   "outputs": [],
   "source": [
    "# 투입계수 \n",
    "def input_prod_coeff(data, domestic_data, metrix_num):\n",
    "    input_metrix = domestic_data.iloc[:, :metrix_num] / data.loc['총투입계', :data.index.values[metrix_num-1]]\n",
    "    input_metrix = input_metrix.iloc[:metrix_num, :metrix_num]\n",
    "    \n",
    "    prod_induc_metrix = pd.DataFrame(data=np.linalg.inv(np.identity(metrix_num) - input_metrix), columns=[input_metrix.columns[i] for i in range(len(input_metrix.columns))], index=[input_metrix.columns[i] for i in range(len(input_metrix.columns))])\n",
    "    \n",
    "    \n",
    "    \n",
    "    prod_induc_metrix['행합'] = prod_induc_metrix.sum(axis=1)\n",
    "    prod_induc_metrix.loc['열합', :] = prod_induc_metrix.sum(axis=0)\n",
    "\n",
    "\n",
    "    prod_induc_metrix['감응도 계수'] = prod_induc_metrix['행합'] / prod_induc_metrix.loc[:data.index.values[metrix_num-1], '행합'].mean()\n",
    "    prod_induc_metrix.loc['영향력 계수', :] = prod_induc_metrix.loc['열합', :] / prod_induc_metrix.loc['열합', :data.index.values[metrix_num-1]].mean()\n",
    "    \n",
    "    return prod_induc_metrix    "
   ]
  },
  {
   "cell_type": "code",
   "execution_count": 129,
   "id": "61b434cc",
   "metadata": {},
   "outputs": [],
   "source": [
    "total_prod_metrix_25 = []\n",
    "for data, domestic_data in zip(total_data, total_data_domestic): \n",
    "    prod_metrix = input_prod_coeff(data, domestic_data, 25)\n",
    "    total_prod_metrix_25.append(prod_metrix)"
   ]
  },
  {
   "cell_type": "code",
   "execution_count": 130,
   "id": "9157b775",
   "metadata": {},
   "outputs": [],
   "source": [
    "total_prod_metrix_5 = []\n",
    "for data, domestic_data in zip(total_data_5, total_data_5_domestic): \n",
    "    prod_metrix = input_prod_coeff(data, domestic_data, 5)\n",
    "    total_prod_metrix_5.append(prod_metrix)"
   ]
  },
  {
   "cell_type": "code",
   "execution_count": 133,
   "id": "3652f94d",
   "metadata": {
    "scrolled": true
   },
   "outputs": [
    {
     "data": {
      "text/html": [
       "<div>\n",
       "<style scoped>\n",
       "    .dataframe tbody tr th:only-of-type {\n",
       "        vertical-align: middle;\n",
       "    }\n",
       "\n",
       "    .dataframe tbody tr th {\n",
       "        vertical-align: top;\n",
       "    }\n",
       "\n",
       "    .dataframe thead th {\n",
       "        text-align: right;\n",
       "    }\n",
       "</style>\n",
       "<table border=\"1\" class=\"dataframe\">\n",
       "  <thead>\n",
       "    <tr style=\"text-align: right;\">\n",
       "      <th></th>\n",
       "      <th>농림수산광업</th>\n",
       "      <th>제조업</th>\n",
       "      <th>SOC 산업</th>\n",
       "      <th>서비스업</th>\n",
       "      <th>공간정보산업</th>\n",
       "      <th>행합</th>\n",
       "      <th>감응도 계수</th>\n",
       "    </tr>\n",
       "  </thead>\n",
       "  <tbody>\n",
       "    <tr>\n",
       "      <th>농림수산광업</th>\n",
       "      <td>1.057835</td>\n",
       "      <td>0.037505</td>\n",
       "      <td>0.014837</td>\n",
       "      <td>0.017247</td>\n",
       "      <td>0.008200</td>\n",
       "      <td>1.135624</td>\n",
       "      <td>0.629946</td>\n",
       "    </tr>\n",
       "    <tr>\n",
       "      <th>제조업</th>\n",
       "      <td>0.471170</td>\n",
       "      <td>1.602808</td>\n",
       "      <td>0.475762</td>\n",
       "      <td>0.261130</td>\n",
       "      <td>0.218088</td>\n",
       "      <td>3.028959</td>\n",
       "      <td>1.680204</td>\n",
       "    </tr>\n",
       "    <tr>\n",
       "      <th>SOC 산업</th>\n",
       "      <td>0.035255</td>\n",
       "      <td>0.048417</td>\n",
       "      <td>1.068013</td>\n",
       "      <td>0.046544</td>\n",
       "      <td>0.034896</td>\n",
       "      <td>1.233123</td>\n",
       "      <td>0.684030</td>\n",
       "    </tr>\n",
       "    <tr>\n",
       "      <th>서비스업</th>\n",
       "      <td>0.147790</td>\n",
       "      <td>0.174873</td>\n",
       "      <td>0.164560</td>\n",
       "      <td>1.267216</td>\n",
       "      <td>0.294522</td>\n",
       "      <td>2.048961</td>\n",
       "      <td>1.136586</td>\n",
       "    </tr>\n",
       "    <tr>\n",
       "      <th>공간정보산업</th>\n",
       "      <td>0.096419</td>\n",
       "      <td>0.108211</td>\n",
       "      <td>0.130341</td>\n",
       "      <td>0.108726</td>\n",
       "      <td>1.123299</td>\n",
       "      <td>1.566996</td>\n",
       "      <td>0.869234</td>\n",
       "    </tr>\n",
       "    <tr>\n",
       "      <th>열합</th>\n",
       "      <td>1.808468</td>\n",
       "      <td>1.971814</td>\n",
       "      <td>1.853513</td>\n",
       "      <td>1.700862</td>\n",
       "      <td>1.679004</td>\n",
       "      <td>9.013663</td>\n",
       "      <td>5.000000</td>\n",
       "    </tr>\n",
       "    <tr>\n",
       "      <th>영향력 계수</th>\n",
       "      <td>1.003182</td>\n",
       "      <td>1.093792</td>\n",
       "      <td>1.028169</td>\n",
       "      <td>0.943491</td>\n",
       "      <td>0.931366</td>\n",
       "      <td>5.000000</td>\n",
       "      <td>2.773567</td>\n",
       "    </tr>\n",
       "  </tbody>\n",
       "</table>\n",
       "</div>"
      ],
      "text/plain": [
       "          농림수산광업       제조업    SOC 산업      서비스업    공간정보산업        행합    감응도 계수\n",
       "농림수산광업  1.057835  0.037505  0.014837  0.017247  0.008200  1.135624  0.629946\n",
       "제조업     0.471170  1.602808  0.475762  0.261130  0.218088  3.028959  1.680204\n",
       "SOC 산업  0.035255  0.048417  1.068013  0.046544  0.034896  1.233123  0.684030\n",
       "서비스업    0.147790  0.174873  0.164560  1.267216  0.294522  2.048961  1.136586\n",
       "공간정보산업  0.096419  0.108211  0.130341  0.108726  1.123299  1.566996  0.869234\n",
       "열합      1.808468  1.971814  1.853513  1.700862  1.679004  9.013663  5.000000\n",
       "영향력 계수  1.003182  1.093792  1.028169  0.943491  0.931366  5.000000  2.773567"
      ]
     },
     "execution_count": 133,
     "metadata": {},
     "output_type": "execute_result"
    }
   ],
   "source": []
  },
  {
   "cell_type": "code",
   "execution_count": null,
   "id": "45227c9b",
   "metadata": {},
   "outputs": [],
   "source": []
  }
 ],
 "metadata": {
  "kernelspec": {
   "display_name": "Python 3 (ipykernel)",
   "language": "python",
   "name": "python3"
  },
  "language_info": {
   "codemirror_mode": {
    "name": "ipython",
    "version": 3
   },
   "file_extension": ".py",
   "mimetype": "text/x-python",
   "name": "python",
   "nbconvert_exporter": "python",
   "pygments_lexer": "ipython3",
   "version": "3.9.7"
  }
 },
 "nbformat": 4,
 "nbformat_minor": 5
}
