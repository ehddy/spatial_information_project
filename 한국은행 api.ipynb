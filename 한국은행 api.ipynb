{
 "cells": [
  {
   "cell_type": "code",
   "execution_count": 1,
   "id": "e5c715ec",
   "metadata": {},
   "outputs": [],
   "source": [
    "# 이 코드는 CSV파일에서 미리 지정한 시계열들을 \n",
    "# 한국은행 경제통계시스템 (ECOS)에서 다운 받습니다.\n",
    "\n",
    "import datetime                     \n",
    "import requests\n",
    "import pandas as pd\n",
    "import numpy as np\n",
    "from bs4 import BeautifulSoup\n",
    "\n",
    "# NaN 을 문자열 공백으로 변경합니다.\n",
    "\n",
    "# ECOS 에서 데이터를 호출하는 함수를 만듭니다.\n",
    "\n",
    "def EcosDownload(Statcode, Statname, Freq, Begdate, Enddate, Subcode1, Subcode2, Subcode3):\n",
    "    \n",
    "    url = 'http://ecos.bok.or.kr/api/StatisticSearch/[61PGSCTAM9UB1PR04WVP]/xml/kr/1/100000/%s/%s/%s/%s/%s/%s/%s/'%(Statcode, Freq, Begdate, Enddate, Subcode1, Subcode2, Subcode3)\n",
    "\n",
    "    raw = requests.get(url)\n",
    "    xml = BeautifulSoup(raw.text,'xml')\n",
    "\n",
    "\n",
    "    # Pandas 데이터프레임으로 전환합니다.\n",
    "\n",
    "    raw_data = xml.find_all(\"row\")\n",
    "\n",
    "    date_list = []\n",
    "    value_list = []\n",
    "\n",
    "    for item in raw_data:\n",
    "         \n",
    "            value = item.find('DATA_VALUE').text.encode('utf-8')\n",
    "            date_str = item.find('TIME').text\n",
    "            \n",
    "            try:\n",
    "                value = float(value)\n",
    "            except:\n",
    "                value = np.nan\n",
    "                \n",
    "            date_list.append(datetime.datetime.strptime(date_str,'%Y%m'))\n",
    "            value_list.append(value)\n",
    "            \n",
    "    df = pd.DataFrame(index = date_list)\n",
    "    \n",
    "    df['%s'%(Statname)] = value_list\n",
    "      \n",
    "    return df\n",
    "\n"
   ]
  },
  {
   "cell_type": "code",
   "execution_count": 2,
   "id": "c03e68d1",
   "metadata": {},
   "outputs": [
    {
     "ename": "TypeError",
     "evalue": "EcosDownload() missing 1 required positional argument: 'Subcode3'",
     "output_type": "error",
     "traceback": [
      "\u001b[0;31m---------------------------------------------------------------------------\u001b[0m",
      "\u001b[0;31mTypeError\u001b[0m                                 Traceback (most recent call last)",
      "Input \u001b[0;32mIn [2]\u001b[0m, in \u001b[0;36m<module>\u001b[0;34m\u001b[0m\n\u001b[0;32m----> 1\u001b[0m \u001b[43mEcosDownload\u001b[49m\u001b[43m(\u001b[49m\u001b[38;5;124;43m'\u001b[39;49m\u001b[38;5;124;43m200Y027\u001b[39;49m\u001b[38;5;124;43m'\u001b[39;49m\u001b[43m,\u001b[49m\u001b[43m \u001b[49m\u001b[38;5;124;43m'\u001b[39;49m\u001b[38;5;124;43mYY\u001b[39;49m\u001b[38;5;124;43m'\u001b[39;49m\u001b[43m,\u001b[49m\u001b[43m \u001b[49m\u001b[38;5;124;43m'\u001b[39;49m\u001b[38;5;124;43m200001\u001b[39;49m\u001b[38;5;124;43m'\u001b[39;49m\u001b[43m,\u001b[49m\u001b[43m \u001b[49m\u001b[38;5;124;43m'\u001b[39;49m\u001b[38;5;124;43m201905\u001b[39;49m\u001b[38;5;124;43m'\u001b[39;49m\u001b[43m,\u001b[49m\u001b[43m \u001b[49m\u001b[38;5;124;43m'\u001b[39;49m\u001b[38;5;124;43m10101\u001b[39;49m\u001b[38;5;124;43m'\u001b[39;49m\u001b[43m,\u001b[49m\u001b[43m \u001b[49m\u001b[38;5;124;43m'\u001b[39;49m\u001b[38;5;124;43m'\u001b[39;49m\u001b[43m,\u001b[49m\u001b[43m \u001b[49m\u001b[38;5;124;43m'\u001b[39;49m\u001b[38;5;124;43m'\u001b[39;49m\u001b[43m)\u001b[49m\n",
      "\u001b[0;31mTypeError\u001b[0m: EcosDownload() missing 1 required positional argument: 'Subcode3'"
     ]
    }
   ],
   "source": [
    "EcosDownload('200Y027', 'YY', '200001', '201905', '10101', '', '')"
   ]
  },
  {
   "cell_type": "code",
   "execution_count": null,
   "id": "d4388528",
   "metadata": {},
   "outputs": [],
   "source": []
  }
 ],
 "metadata": {
  "kernelspec": {
   "display_name": "Python 3 (ipykernel)",
   "language": "python",
   "name": "python3"
  },
  "language_info": {
   "codemirror_mode": {
    "name": "ipython",
    "version": 3
   },
   "file_extension": ".py",
   "mimetype": "text/x-python",
   "name": "python",
   "nbconvert_exporter": "python",
   "pygments_lexer": "ipython3",
   "version": "3.9.7"
  }
 },
 "nbformat": 4,
 "nbformat_minor": 5
}
