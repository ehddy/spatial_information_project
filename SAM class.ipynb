{
 "cells": [
  {
   "cell_type": "code",
   "execution_count": 13,
   "id": "cc576669",
   "metadata": {},
   "outputs": [],
   "source": [
    "import pandas as pd \n",
    "import numpy as np \n"
   ]
  },
  {
   "cell_type": "code",
   "execution_count": 14,
   "id": "f1be6a74",
   "metadata": {},
   "outputs": [],
   "source": [
    "# 산업연관표 데이터 (25)\n",
    "# 총\n",
    "data_2015 = pd.read_excel('/Users/dongyokim/main/jupyter/2022:Summer/프로젝트/2015/총/2015년 총거래표(25).xlsx')\n",
    "data_2016 = pd.read_excel('/Users/dongyokim/main/jupyter/2022:Summer/프로젝트/2016/총/2016년 총거래표(25).xlsx')\n",
    "data_2017 = pd.read_excel('/Users/dongyokim/main/jupyter/2022:Summer/프로젝트/2017/총/2017년 총거래표(25).xlsx')\n",
    "data_2018 = pd.read_excel('/Users/dongyokim/main/jupyter/2022:Summer/프로젝트/2018/총/2018년 총거래표(25).xlsx')\n",
    "data_2019 = pd.read_excel('/Users/dongyokim/main/jupyter/2022:Summer/프로젝트/2019/총/2019년 총거래표(25).xlsx')\n",
    "\n",
    "total_data_25 = [data_2015, data_2016, data_2017, data_2018, data_2019]"
   ]
  },
  {
   "cell_type": "code",
   "execution_count": 15,
   "id": "d20d2476",
   "metadata": {},
   "outputs": [],
   "source": [
    "# 산업연관표 데이터 (5)\n",
    "data_2015 = pd.read_excel('/Users/dongyokim/main/jupyter/2022:Summer/프로젝트/2015/총/2015년 총거래표(5).xlsx')\n",
    "data_2016 = pd.read_excel('/Users/dongyokim/main/jupyter/2022:Summer/프로젝트/2016/총/2016년 총거래표(5).xlsx')\n",
    "data_2017 = pd.read_excel('/Users/dongyokim/main/jupyter/2022:Summer/프로젝트/2017/총/2017년 총거래표(5).xlsx')\n",
    "data_2018 = pd.read_excel('/Users/dongyokim/main/jupyter/2022:Summer/프로젝트/2018/총/2018년 총거래표(5).xlsx')\n",
    "data_2019 = pd.read_excel('/Users/dongyokim/main/jupyter/2022:Summer/프로젝트/2019/총/2019년 총거래표(5).xlsx')\n",
    "\n",
    "total_data_5 = [data_2015, data_2016, data_2017, data_2018, data_2019]"
   ]
  },
  {
   "cell_type": "code",
   "execution_count": 16,
   "id": "1916a6e1",
   "metadata": {},
   "outputs": [],
   "source": [
    "# 국민계정 순저축 데이터 \n",
    "data_sav = pd.read_excel('/Users/dongyokim/main/jupyter/2022:Summer/프로젝트/제도부문별 소득계정(명목, 연간)_09004241.xlsx')"
   ]
  },
  {
   "cell_type": "code",
   "execution_count": 17,
   "id": "b4081398",
   "metadata": {},
   "outputs": [],
   "source": [
    "# 가계저축 \n",
    "house_sav_2015 = np.sum(data_sav['2015']) - data_sav.loc[2, '2015']\n",
    "house_sav_2016 = np.sum(data_sav['2016']) - data_sav.loc[2, '2016']\n",
    "house_sav_2017 = np.sum(data_sav['2017']) - data_sav.loc[2, '2017']\n",
    "house_sav_2018 = np.sum(data_sav['2018']) - data_sav.loc[2, '2018']\n",
    "house_sav_2019 = np.sum(data_sav['2019']) - data_sav.loc[2, '2019']\n",
    "\n",
    "house_sav = [house_sav_2015, house_sav_2016, house_sav_2017, house_sav_2018, house_sav_2019]\n",
    "\n",
    "# 정부저축 \n",
    "gov_sav_2015 = data_sav.loc[2, '2015']\n",
    "gov_sav_2016 = data_sav.loc[2, '2016']\n",
    "gov_sav_2017 = data_sav.loc[2, '2017']\n",
    "gov_sav_2018 = data_sav.loc[2, '2018']\n",
    "gov_sav_2019 = data_sav.loc[2, '2019']\n",
    "\n",
    "gov_sav = [gov_sav_2015, gov_sav_2016, gov_sav_2017, gov_sav_2018, gov_sav_2019]"
   ]
  },
  {
   "cell_type": "code",
   "execution_count": 18,
   "id": "ec785108",
   "metadata": {},
   "outputs": [],
   "source": [
    "class SAM_Preprocessing():   \n",
    "    \"\"\"\n",
    "    0.1 초기 설정 \n",
    "    \"\"\"\n",
    "    \n",
    "    def __init__(self, total_data, house_sav, gov_sav, metrix_num, year):\n",
    "        self.total_data = total_data\n",
    "        self.metrix_num = metrix_num \n",
    "        self.year = year\n",
    "        self.house_sav = house_sav\n",
    "        self.gov_sav = gov_sav\n",
    "        self.special_industry_list = []\n",
    "        \n",
    "        \n",
    "        \n",
    "        for i in range(5):\n",
    "            self.total_data[i].rename(columns={'Unnamed: 0':'상품분류'}, inplace=True)\n",
    "            self.total_data[i].set_index('상품분류', inplace=True)\n",
    "            \n",
    "            \n",
    "        self.index_name = list(total_data[0].index.values[:metrix_num])\n",
    "\n",
    "        \"\"\"\n",
    "        0.2. 특정 산업 list 추가 \n",
    "        \"\"\"\n",
    "    def add_special_industry_list(self, industry_list):\n",
    "        self.special_industry_list.extend(industry_list)\n",
    "        \n",
    "        print(f\">>> Num of IndustryGroups: {len(self.special_industry_list)}\")\n",
    "        \n",
    "    def total_sam_pre(self):\n",
    "        total_sam = []\n",
    "        \n",
    "        for data, house, gov in zip(self.total_data, self.house_sav, self.gov_sav):\n",
    "            sam = pd.read_excel('/Users/dongyokim/main/jupyter/2022:Summer/프로젝트/SAM 양식.xlsx', sheet_name='전산업_SAM')    \n",
    "            sam.rename(columns={'Unnamed: 0':'구분'}, inplace=True)\n",
    "            sam.set_index('구분', inplace=True)\n",
    "            sam = sam.replace(np.NaN, 0)\n",
    "\n",
    "            data = data.replace(np.NaN, 0)\n",
    "\n",
    "            # 산업연관표 데이터 이용 \n",
    "            sam.loc['산업', '산업'] = data.loc['중간투입계', '중간수요계']\n",
    "\n",
    "            sam.loc['가계', '노동'] = data.loc['피용자보수', '중간수요계']\n",
    "            sam.loc['가계', '자본'] = data.loc['영업잉여', '중간수요계'] + data.loc['고정자본소모', '중간수요계']\n",
    "\n",
    "\n",
    "            sam.loc['노동', '산업'] = data.loc['피용자보수', '중간수요계']\n",
    "            sam.loc['자본', '산업'] = data.loc['영업잉여', '중간수요계'] + data.loc['고정자본소모', '중간수요계']\n",
    "\n",
    "            sam.loc['산업', '가계'] = data.loc['중간투입계', '민간소비지출\\n(가계 및 가계봉사\\n비영리단체)']\n",
    "            sam.loc['산업', '정부'] = data.loc['중간투입계', '정부소비지출']\n",
    "            sam.loc['산업', '총 고정 자본'] = data.loc['중간투입계', '민간고정\\n자본형성'] + data.loc['중간투입계', '정부고정\\n자본형성'] + data.loc['중간투입계', '재고증감'] + data.loc['중간투입계', '귀중품\\n순취득']\n",
    "            sam.loc['산업', '해외 수출'] = data.loc['중간투입계', '수출']\n",
    "\n",
    "            sam.loc['간접세', '산업'] = data.loc['생산세(보조금공제)', '중간수요계']\n",
    "            sam.loc['관세', '산업'] = data.loc['중간투입계', '생산물세(수입)']\n",
    "            sam.loc['해외 수입', '산업'] = data.loc['중간투입계', '수입']\n",
    "\n",
    "            sam.loc['정부', '간접세'] = data.loc['생산세(보조금공제)', '중간수요계']\n",
    "            sam.loc['정부', '관세'] = data.loc['중간투입계', '생산물세(수입)']\n",
    "\n",
    "            sam.loc['총 고정 자본', '해외 수출'] = data.loc['중간투입계', '수입'] - data.loc['중간투입계', '수출']\n",
    "            sam.loc['총 고정 자본', '가계'] = house\n",
    "            sam.loc['총 고정 자본', '정부'] = gov\n",
    "\n",
    "\n",
    "\n",
    "            # 행 렬 총계 맞춰주기 \n",
    "            sam['총계'] = sam.sum(axis=1)\n",
    "            sam.loc['총계', :] = sam.sum(axis=0)\n",
    "\n",
    "            sam.loc['정부', '총 고정 자본'] = sam.loc['총 고정 자본', '총계'] - sam.loc['총계', '총 고정 자본']\n",
    "\n",
    "            sam['총계'] = sam.iloc[:-1, :-1].sum(axis=1)\n",
    "            sam.loc['총계', :] = sam.iloc[:-1, :-1].sum(axis=0)\n",
    "\n",
    "            sam.loc['정부', '가계'] = sam.loc['가계', '총계'] - sam.loc['총계', '가계']\n",
    "\n",
    "            sam['총계'] = sam.iloc[:-1, :-1].sum(axis=1)\n",
    "            sam.loc['총계', :] = sam.iloc[:-1, :-1].sum(axis=0)\n",
    "\n",
    "            sam = sam.replace(0, np.NaN)\n",
    "\n",
    "            total_sam.append(sam)\n",
    "        return total_sam\n",
    "    \n",
    "    \n",
    "    def sam_pre_detail(self):\n",
    "        \n",
    "        total_sam = []\n",
    "        \n",
    "        for data, house, gov in zip(self.total_data, self.house_sav, self.gov_sav):\n",
    "\n",
    "            sam = pd.read_excel('/Users/dongyokim/main/jupyter/2022:Summer/프로젝트/SAM 양식.xlsx', sheet_name='{}개 산업_SAM'.format(self.metrix_num))    \n",
    "            sam.rename(columns={'Unnamed: 0':'구분'}, inplace=True)\n",
    "            sam.set_index('구분', inplace=True)\n",
    "            sam = sam.replace(np.NaN, 0)\n",
    "            \n",
    "            data = data.replace(np.NaN, 0)\n",
    "            \n",
    "            special_num = self.special_industry_list[-1]\n",
    "            \n",
    "            # 산업연관표 데이터 이용 \n",
    "            sam.loc[:special_num, :special_num] = data.loc[:special_num, :special_num].values\n",
    "\n",
    "            sam.loc['가계', '노동'] = data.loc['피용자보수', '중간수요계']\n",
    "            sam.loc['가계', '자본'] = data.loc['영업잉여', '중간수요계'] + data.loc['고정자본소모', '중간수요계']\n",
    "\n",
    "\n",
    "            sam.loc['노동', :special_num] = data.loc['피용자보수', :special_num] \n",
    "            sam.loc['자본', :special_num] = data.loc['영업잉여', :special_num] + data.loc['고정자본소모', :special_num]\n",
    "\n",
    "            sam.loc[:special_num, '가계'] = data.loc[:special_num, '민간소비지출\\n(가계 및 가계봉사\\n비영리단체)']\n",
    "            sam.loc[:special_num, '정부'] = data.loc[:special_num, '정부소비지출']\n",
    "            sam.loc[:special_num, '총 고정 자본'] = data.loc[:special_num, '민간고정\\n자본형성'] + data.loc[:special_num, '정부고정\\n자본형성'] + data.loc[:special_num, '재고증감'] + data.loc[:special_num, '귀중품\\n순취득']\n",
    "            sam.loc[:special_num, '해외 수출'] = data.loc[:special_num, '수출']\n",
    "\n",
    "            sam.loc['간접세', :special_num] = data.loc['생산세(보조금공제)', :special_num]\n",
    "            sam.loc['관세', :special_num] = data.loc[:special_num, '생산물세(수입)']\n",
    "            sam.loc['해외 수입', :special_num] = data.loc[:special_num, '수입']\n",
    "\n",
    "            sam.loc['정부', '간접세'] = data.loc['생산세(보조금공제)', '중간수요계']\n",
    "            sam.loc['정부', '관세'] = data.loc['중간투입계', '생산물세(수입)']\n",
    "\n",
    "            sam.loc['총 고정 자본', '해외 수출'] = data.loc['중간투입계', '수입'] - data.loc['중간투입계', '수출']\n",
    "            sam.loc['총 고정 자본', '가계'] = house\n",
    "            sam.loc['총 고정 자본', '정부'] = gov\n",
    "\n",
    "\n",
    "\n",
    "            # 행 렬 총계 맞춰주기 \n",
    "            sam['총계'] = sam.sum(axis=1)\n",
    "            sam.loc['총계', :] = sam.sum(axis=0)\n",
    "\n",
    "            sam.loc['정부', '총 고정 자본'] = sam.loc['총 고정 자본', '총계'] - sam.loc['총계', '총 고정 자본']\n",
    "\n",
    "            sam['총계'] = sam.iloc[:-1, :-1].sum(axis=1)\n",
    "            sam.loc['총계', :] = sam.iloc[:-1, :-1].sum(axis=0)\n",
    "\n",
    "            sam.loc['정부', '가계'] = sam.loc['가계', '총계'] - sam.loc['총계', '가계']\n",
    "\n",
    "            sam['총계'] = sam.iloc[:-1, :-1].sum(axis=1)\n",
    "            sam.loc['총계', :] = sam.iloc[:-1, :-1].sum(axis=0)\n",
    "\n",
    "            sam = sam.replace(0, np.NaN)\n",
    "            \n",
    "            total_sam.append(sam)\n",
    "        return total_sam "
   ]
  },
  {
   "cell_type": "code",
   "execution_count": 19,
   "id": "0df70ef4",
   "metadata": {},
   "outputs": [],
   "source": [
    "Sam = SAM_Preprocessing(total_data_5, house_sav, gov_sav, 5, 2015)\n",
    "# Sam = SAM_Preprocessing(total_data_25, house_sav, gov_sav, 25, 2015)"
   ]
  },
  {
   "cell_type": "code",
   "execution_count": 20,
   "id": "ac7f1a68",
   "metadata": {},
   "outputs": [],
   "source": [
    "# special_list = ['공간정보 관련 제조업', '공간정보 관련 도매업', '공간정보 관련 출판 및 정보서비스업', '공간정보 관련 기술서비스업', '공간정보 관련 교육서비스업', '공간정보 관련 협회 및 단체']\n",
    "special_list = ['공간정보산업']"
   ]
  },
  {
   "cell_type": "code",
   "execution_count": 21,
   "id": "3e5c73ea",
   "metadata": {},
   "outputs": [
    {
     "name": "stdout",
     "output_type": "stream",
     "text": [
      ">>> Num of IndustryGroups: 1\n"
     ]
    }
   ],
   "source": [
    "Sam.add_special_industry_list(special_list)"
   ]
  },
  {
   "cell_type": "code",
   "execution_count": 26,
   "id": "2bc81072",
   "metadata": {},
   "outputs": [],
   "source": [
    "Sam.sam_pre_detail()[-1].to_excel('2019 sam_5.xlsx')"
   ]
  },
  {
   "cell_type": "code",
   "execution_count": 23,
   "id": "7d2a0ff3",
   "metadata": {},
   "outputs": [],
   "source": [
    "a = Sam.special_industry_list[-1]"
   ]
  },
  {
   "cell_type": "code",
   "execution_count": null,
   "id": "1f1951ce",
   "metadata": {},
   "outputs": [],
   "source": [
    "total_data_25[0].loc[:a, :a]"
   ]
  },
  {
   "cell_type": "code",
   "execution_count": null,
   "id": "4423a7a5",
   "metadata": {},
   "outputs": [],
   "source": [
    "total_data_5[0]"
   ]
  },
  {
   "cell_type": "code",
   "execution_count": null,
   "id": "372455e3",
   "metadata": {},
   "outputs": [],
   "source": []
  }
 ],
 "metadata": {
  "kernelspec": {
   "display_name": "Python 3 (ipykernel)",
   "language": "python",
   "name": "python3"
  },
  "language_info": {
   "codemirror_mode": {
    "name": "ipython",
    "version": 3
   },
   "file_extension": ".py",
   "mimetype": "text/x-python",
   "name": "python",
   "nbconvert_exporter": "python",
   "pygments_lexer": "ipython3",
   "version": "3.9.7"
  }
 },
 "nbformat": 4,
 "nbformat_minor": 5
}
