{
 "cells": [
  {
   "cell_type": "code",
   "execution_count": 59,
   "id": "8959056d",
   "metadata": {},
   "outputs": [],
   "source": [
    "import pandas as pd\n",
    "import numpy as np"
   ]
  },
  {
   "cell_type": "code",
   "execution_count": 60,
   "id": "5ffc2c50",
   "metadata": {},
   "outputs": [],
   "source": [
    "data = pd.read_excel('/Users/dongyokim/main/jupyter/2022:Summer/프로젝트/sam 구축/sam_09_1.xlsx',  sheet_name='거시 사회계정행렬',skiprows=[0])"
   ]
  },
  {
   "cell_type": "code",
   "execution_count": 61,
   "id": "721e452f",
   "metadata": {},
   "outputs": [],
   "source": [
    "data.drop('Unnamed: 0', axis=1, inplace=True)"
   ]
  },
  {
   "cell_type": "code",
   "execution_count": 62,
   "id": "8896f4d0",
   "metadata": {},
   "outputs": [],
   "source": [
    "data.rename(columns={'Unnamed: 1':'구분', 'Unnamed: 15':'총계'},inplace=True)"
   ]
  },
  {
   "cell_type": "code",
   "execution_count": 63,
   "id": "3f15062d",
   "metadata": {},
   "outputs": [],
   "source": [
    "data['구분'] = data['구분'].fillna('총계')"
   ]
  },
  {
   "cell_type": "code",
   "execution_count": 64,
   "id": "fa683dfe",
   "metadata": {},
   "outputs": [],
   "source": [
    "data.set_index('구분', inplace=True)"
   ]
  },
  {
   "cell_type": "code",
   "execution_count": 65,
   "id": "13125c48",
   "metadata": {},
   "outputs": [],
   "source": [
    "data.fillna(0, inplace=True)\n",
    "data.replace(' ', 0, inplace=True)"
   ]
  },
  {
   "cell_type": "code",
   "execution_count": 66,
   "id": "e913b3b8",
   "metadata": {},
   "outputs": [],
   "source": [
    "data = data.astype('float')"
   ]
  },
  {
   "cell_type": "code",
   "execution_count": 67,
   "id": "ca27cc32",
   "metadata": {},
   "outputs": [],
   "source": [
    "s11 = data.loc[:'정부', :'정부'].values"
   ]
  },
  {
   "cell_type": "code",
   "execution_count": 68,
   "id": "102e2a05",
   "metadata": {},
   "outputs": [],
   "source": [
    "s12 = data.loc[:'정부', '고정자본형성':'수입'].values"
   ]
  },
  {
   "cell_type": "code",
   "execution_count": 69,
   "id": "a5827cb7",
   "metadata": {},
   "outputs": [],
   "source": [
    "s21 = data.loc['고정자본형성':'수입', :'정부'].values"
   ]
  },
  {
   "cell_type": "code",
   "execution_count": 70,
   "id": "63d36e7e",
   "metadata": {},
   "outputs": [],
   "source": [
    "s22 = data.loc['고정자본형성':'수입', '고정자본형성':'수입'].values"
   ]
  },
  {
   "cell_type": "code",
   "execution_count": 71,
   "id": "12b29dd0",
   "metadata": {},
   "outputs": [],
   "source": [
    "y1_r = data.loc['총계', :'정부'].values.reshape(1, 6)"
   ]
  },
  {
   "cell_type": "code",
   "execution_count": 72,
   "id": "8acb8d51",
   "metadata": {},
   "outputs": [],
   "source": [
    "y2_r = data.loc['총계', '고정자본형성':'수입'].values.reshape(1, 7)"
   ]
  },
  {
   "cell_type": "code",
   "execution_count": 73,
   "id": "ccc52b8f",
   "metadata": {},
   "outputs": [],
   "source": [
    "y1_c = data.loc[:'정부', '총계'].values.reshape(6, 1)\n",
    "y2_c = data.loc['고정자본형성':'수입', '총계'].values.reshape(7, 1)"
   ]
  },
  {
   "cell_type": "code",
   "execution_count": 74,
   "id": "a8a07a7f",
   "metadata": {},
   "outputs": [],
   "source": [
    "h11 = s11 / y1_r\n",
    "h12 = s12 / y2_r\n",
    "h21 = s21 / y1_r\n",
    "h22 = s22 / y2_r"
   ]
  },
  {
   "cell_type": "code",
   "execution_count": 75,
   "id": "47a863ab",
   "metadata": {},
   "outputs": [],
   "source": [
    "# 승수행렬\n",
    "SAM_multiplier = np.linalg.inv(np.identity(h11.shape[0])-h11)"
   ]
  },
  {
   "cell_type": "code",
   "execution_count": 76,
   "id": "f5a189c5",
   "metadata": {},
   "outputs": [],
   "source": [
    "result_vector = np.dot(np.dot(SAM_multiplier, h12), y2_c).transpose()"
   ]
  },
  {
   "cell_type": "code",
   "execution_count": 77,
   "id": "ef1905f2",
   "metadata": {},
   "outputs": [],
   "source": [
    "update_endogenous_metrix = h11 * result_vector"
   ]
  },
  {
   "cell_type": "code",
   "execution_count": 78,
   "id": "61571dc8",
   "metadata": {},
   "outputs": [
    {
     "data": {
      "text/plain": [
       "array([[2465176.361,       0.   ,       0.   ,  935933.779,       0.   ,\n",
       "         328663.18 ],\n",
       "       [ 913408.764,       0.   ,       0.   ,       0.   ,       0.   ,\n",
       "              0.   ],\n",
       "       [ 826673.012,       0.   ,       0.   ,       0.   ,       0.   ,\n",
       "              0.   ],\n",
       "       [      0.   ,  913408.764,  261977.7  ,       0.   ,       0.   ,\n",
       "              0.   ],\n",
       "       [      0.   ,       0.   ,  564695.312,       0.   ,       0.   ,\n",
       "              0.   ],\n",
       "       [      0.   ,       0.   ,       0.   ,       0.   ,   98638.134,\n",
       "              0.   ]])"
      ]
     },
     "execution_count": 78,
     "metadata": {},
     "output_type": "execute_result"
    }
   ],
   "source": [
    "update_endogenous_metrix"
   ]
  },
  {
   "cell_type": "code",
   "execution_count": null,
   "id": "9ac2be5c",
   "metadata": {},
   "outputs": [],
   "source": []
  }
 ],
 "metadata": {
  "kernelspec": {
   "display_name": "Python 3 (ipykernel)",
   "language": "python",
   "name": "python3"
  },
  "language_info": {
   "codemirror_mode": {
    "name": "ipython",
    "version": 3
   },
   "file_extension": ".py",
   "mimetype": "text/x-python",
   "name": "python",
   "nbconvert_exporter": "python",
   "pygments_lexer": "ipython3",
   "version": "3.9.7"
  }
 },
 "nbformat": 4,
 "nbformat_minor": 5
}
