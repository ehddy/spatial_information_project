{
 "cells": [
  {
   "cell_type": "code",
   "execution_count": 1,
   "id": "ec9c4c4f",
   "metadata": {},
   "outputs": [
    {
     "name": "stdout",
     "output_type": "stream",
     "text": [
      "Collecting bioinfokit\n",
      "  Downloading bioinfokit-2.0.8.tar.gz (84 kB)\n",
      "\u001b[2K     \u001b[38;2;114;156;31m━━━━━━━━━━━━━━━━━━━━━━━━━━━━━━━━━━━━━━━━\u001b[0m \u001b[32m84.6/84.6 kB\u001b[0m \u001b[31m1.2 MB/s\u001b[0m eta \u001b[36m0:00:00\u001b[0m[31m2.3 MB/s\u001b[0m eta \u001b[36m0:00:01\u001b[0m\n",
      "\u001b[?25h  Preparing metadata (setup.py) ... \u001b[?25ldone\n",
      "\u001b[?25hRequirement already satisfied: pandas in /Users/dongyokim/miniforge3/envs/web/lib/python3.9/site-packages (from bioinfokit) (1.3.5)\n",
      "Requirement already satisfied: numpy in /Users/dongyokim/miniforge3/envs/web/lib/python3.9/site-packages (from bioinfokit) (1.22.0)\n",
      "Requirement already satisfied: matplotlib in /Users/dongyokim/miniforge3/envs/web/lib/python3.9/site-packages (from bioinfokit) (3.5.1)\n",
      "Requirement already satisfied: scipy in /Users/dongyokim/miniforge3/envs/web/lib/python3.9/site-packages (from bioinfokit) (1.7.3)\n",
      "Requirement already satisfied: scikit-learn in /Users/dongyokim/miniforge3/envs/web/lib/python3.9/site-packages (from bioinfokit) (1.0.2)\n",
      "Requirement already satisfied: seaborn in /Users/dongyokim/miniforge3/envs/web/lib/python3.9/site-packages (from bioinfokit) (0.11.2)\n",
      "Collecting matplotlib-venn\n",
      "  Downloading matplotlib-venn-0.11.7.tar.gz (29 kB)\n",
      "  Preparing metadata (setup.py) ... \u001b[?25ldone\n",
      "\u001b[?25hCollecting tabulate\n",
      "  Downloading tabulate-0.8.10-py3-none-any.whl (29 kB)\n",
      "Requirement already satisfied: statsmodels in /Users/dongyokim/miniforge3/envs/web/lib/python3.9/site-packages (from bioinfokit) (0.13.1)\n",
      "Collecting textwrap3\n",
      "  Downloading textwrap3-0.9.2-py2.py3-none-any.whl (12 kB)\n",
      "Collecting adjustText\n",
      "  Downloading adjustText-0.7.3.tar.gz (7.5 kB)\n",
      "  Preparing metadata (setup.py) ... \u001b[?25ldone\n",
      "\u001b[?25hRequirement already satisfied: packaging>=20.0 in /Users/dongyokim/miniforge3/envs/web/lib/python3.9/site-packages (from matplotlib->bioinfokit) (21.3)\n",
      "Requirement already satisfied: pyparsing>=2.2.1 in /Users/dongyokim/miniforge3/envs/web/lib/python3.9/site-packages (from matplotlib->bioinfokit) (3.0.6)\n",
      "Requirement already satisfied: pillow>=6.2.0 in /Users/dongyokim/miniforge3/envs/web/lib/python3.9/site-packages (from matplotlib->bioinfokit) (8.4.0)\n",
      "Requirement already satisfied: cycler>=0.10 in /Users/dongyokim/miniforge3/envs/web/lib/python3.9/site-packages (from matplotlib->bioinfokit) (0.11.0)\n",
      "Requirement already satisfied: kiwisolver>=1.0.1 in /Users/dongyokim/miniforge3/envs/web/lib/python3.9/site-packages (from matplotlib->bioinfokit) (1.3.2)\n",
      "Requirement already satisfied: fonttools>=4.22.0 in /Users/dongyokim/miniforge3/envs/web/lib/python3.9/site-packages (from matplotlib->bioinfokit) (4.28.5)\n",
      "Requirement already satisfied: python-dateutil>=2.7 in /Users/dongyokim/miniforge3/envs/web/lib/python3.9/site-packages (from matplotlib->bioinfokit) (2.8.2)\n",
      "Requirement already satisfied: pytz>=2017.3 in /Users/dongyokim/miniforge3/envs/web/lib/python3.9/site-packages (from pandas->bioinfokit) (2021.3)\n",
      "Requirement already satisfied: joblib>=0.11 in /Users/dongyokim/miniforge3/envs/web/lib/python3.9/site-packages (from scikit-learn->bioinfokit) (1.1.0)\n",
      "Requirement already satisfied: threadpoolctl>=2.0.0 in /Users/dongyokim/miniforge3/envs/web/lib/python3.9/site-packages (from scikit-learn->bioinfokit) (3.0.0)\n",
      "Requirement already satisfied: patsy>=0.5.2 in /Users/dongyokim/miniforge3/envs/web/lib/python3.9/site-packages (from statsmodels->bioinfokit) (0.5.2)\n",
      "Requirement already satisfied: six in /Users/dongyokim/miniforge3/envs/web/lib/python3.9/site-packages (from patsy>=0.5.2->statsmodels->bioinfokit) (1.16.0)\n",
      "Building wheels for collected packages: bioinfokit, adjustText, matplotlib-venn\n",
      "  Building wheel for bioinfokit (setup.py) ... \u001b[?25ldone\n",
      "\u001b[?25h  Created wheel for bioinfokit: filename=bioinfokit-2.0.8-py3-none-any.whl size=56749 sha256=675cd3041fbd4ff7cb5a4dd0cdad45208af223f795f1e7d4d7bf85fcdfe77ad2\n",
      "  Stored in directory: /Users/dongyokim/Library/Caches/pip/wheels/fa/50/db/bf79767c7cbac03b20b9444bcce9bc3c1507c6d143cad39656\n",
      "  Building wheel for adjustText (setup.py) ... \u001b[?25ldone\n",
      "\u001b[?25h  Created wheel for adjustText: filename=adjustText-0.7.3-py3-none-any.whl size=7094 sha256=89b3984a15c46d20503c3d085c0b2b15e98c5222e8a61a7bdc4087e496aab475\n",
      "  Stored in directory: /Users/dongyokim/Library/Caches/pip/wheels/6b/1d/79/4326d5f3a7d86fb9900e5564e7a0f98b552da5103ca762f24f\n",
      "  Building wheel for matplotlib-venn (setup.py) ... \u001b[?25ldone\n",
      "\u001b[?25h  Created wheel for matplotlib-venn: filename=matplotlib_venn-0.11.7-py3-none-any.whl size=32154 sha256=48abfa48367d7e323a1ad0ffa3c6347f64ad0854fc20cbee40cbd215538245fc\n",
      "  Stored in directory: /Users/dongyokim/Library/Caches/pip/wheels/32/41/5f/d0f29cd092d042d8e8a87d7bbe42193166aa555ff38b377343\n",
      "Successfully built bioinfokit adjustText matplotlib-venn\n",
      "Installing collected packages: textwrap3, tabulate, matplotlib-venn, adjustText, bioinfokit\n",
      "Successfully installed adjustText-0.7.3 bioinfokit-2.0.8 matplotlib-venn-0.11.7 tabulate-0.8.10 textwrap3-0.9.2\n",
      "\n",
      "\u001b[1m[\u001b[0m\u001b[34;49mnotice\u001b[0m\u001b[1;39;49m]\u001b[0m\u001b[39;49m A new release of pip available: \u001b[0m\u001b[31;49m22.2\u001b[0m\u001b[39;49m -> \u001b[0m\u001b[32;49m22.2.2\u001b[0m\n",
      "\u001b[1m[\u001b[0m\u001b[34;49mnotice\u001b[0m\u001b[1;39;49m]\u001b[0m\u001b[39;49m To update, run: \u001b[0m\u001b[32;49mpip install --upgrade pip\u001b[0m\n",
      "Note: you may need to restart the kernel to use updated packages.\n"
     ]
    }
   ],
   "source": [
    "pip install bioinfokit"
   ]
  },
  {
   "cell_type": "code",
   "execution_count": 6,
   "id": "407bd271",
   "metadata": {},
   "outputs": [],
   "source": [
    "import bioinfokit"
   ]
  },
  {
   "cell_type": "code",
   "execution_count": 7,
   "id": "01271059",
   "metadata": {},
   "outputs": [
    {
     "data": {
      "text/plain": [
       "'2.0.8'"
      ]
     },
     "execution_count": 7,
     "metadata": {},
     "output_type": "execute_result"
    }
   ],
   "source": [
    "bioinfokit.__version__"
   ]
  },
  {
   "cell_type": "code",
   "execution_count": 10,
   "id": "a2a0526b",
   "metadata": {},
   "outputs": [
    {
     "data": {
      "text/plain": [
       "<function bioinfokit.analys.stat.levene(self, df=None, xfac_var=None, res_var=None, center='median')>"
      ]
     },
     "execution_count": 10,
     "metadata": {},
     "output_type": "execute_result"
    }
   ],
   "source": [
    "bioinfokit.analys.stat.levene"
   ]
  },
  {
   "cell_type": "code",
   "execution_count": null,
   "id": "c32c87a7",
   "metadata": {},
   "outputs": [],
   "source": [
    "import"
   ]
  }
 ],
 "metadata": {
  "kernelspec": {
   "display_name": "Python 3 (ipykernel)",
   "language": "python",
   "name": "python3"
  },
  "language_info": {
   "codemirror_mode": {
    "name": "ipython",
    "version": 3
   },
   "file_extension": ".py",
   "mimetype": "text/x-python",
   "name": "python",
   "nbconvert_exporter": "python",
   "pygments_lexer": "ipython3",
   "version": "3.9.7"
  }
 },
 "nbformat": 4,
 "nbformat_minor": 5
}
