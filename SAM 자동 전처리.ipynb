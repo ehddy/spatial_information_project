{
 "cells": [
  {
   "cell_type": "code",
   "execution_count": 1,
   "id": "d8477b9d",
   "metadata": {},
   "outputs": [],
   "source": [
    "import numpy as np \n",
    "import pandas as pd "
   ]
  },
  {
   "cell_type": "code",
   "execution_count": 27,
   "id": "7c5a2daa",
   "metadata": {},
   "outputs": [],
   "source": [
    "# 산업연관표 데이터 (25)\n",
    "data_2015 = pd.read_excel('/Users/dongyokim/main/jupyter /2022:Summer/프로젝트/2015/총/2015년 총거래표(25).xlsx')\n",
    "data_2016 = pd.read_excel('/Users/dongyokim/main/jupyter /2022:Summer/프로젝트/2016/총/2016년 총거래표(25).xlsx')\n",
    "data_2017 = pd.read_excel('/Users/dongyokim/main/jupyter /2022:Summer/프로젝트/2017/총/2017년 총거래표(25).xlsx')\n",
    "data_2018 = pd.read_excel('/Users/dongyokim/main/jupyter /2022:Summer/프로젝트/2018/총/2018년 총거래표(25).xlsx')\n",
    "data_2019 = pd.read_excel('/Users/dongyokim/main/jupyter /2022:Summer/프로젝트/2019/총/2019년 총거래표(25).xlsx')\n",
    "\n",
    "total_data = [data_2015, data_2016, data_2017, data_2018, data_2019]"
   ]
  },
  {
   "cell_type": "code",
   "execution_count": 3,
   "id": "52042553",
   "metadata": {},
   "outputs": [],
   "source": [
    "# 산업연관표 데이터 (5)\n",
    "data_2015 = pd.read_excel('/Users/dongyokim/main/jupyter/2022:Summer/프로젝트/2015/총/2015년 총거래표(5).xlsx')\n",
    "data_2016 = pd.read_excel('/Users/dongyokim/main/jupyter/2022:Summer/프로젝트/2016/총/2016년 총거래표(5).xlsx')\n",
    "data_2017 = pd.read_excel('/Users/dongyokim/main/jupyter/2022:Summer/프로젝트/2017/총/2017년 총거래표(5).xlsx')\n",
    "data_2018 = pd.read_excel('/Users/dongyokim/main/jupyter/2022:Summer/프로젝트/2018/총/2018년 총거래표(5).xlsx')\n",
    "data_2019 = pd.read_excel('/Users/dongyokim/main/jupyter/2022:Summer/프로젝트/2019/총/2019년 총거래표(5).xlsx')\n",
    "\n",
    "total_data = [data_2015, data_2016, data_2017, data_2018, data_2019]"
   ]
  },
  {
   "cell_type": "code",
   "execution_count": 4,
   "id": "2d29770f",
   "metadata": {},
   "outputs": [],
   "source": [
    "for i in range(5):\n",
    "    total_data[i].rename(columns={'Unnamed: 0':'상품분류'}, inplace=True)\n",
    "    total_data[i].set_index('상품분류', inplace=True)"
   ]
  },
  {
   "cell_type": "code",
   "execution_count": 6,
   "id": "de6a71aa",
   "metadata": {},
   "outputs": [],
   "source": [
    "# 국민계정 순저축 데이터 \n",
    "data_sav = pd.read_excel('/Users/dongyokim/main/jupyter/2022:Summer/프로젝트/제도부문별 소득계정(명목, 연간)_09004241.xlsx')"
   ]
  },
  {
   "cell_type": "code",
   "execution_count": 7,
   "id": "74e64d58",
   "metadata": {},
   "outputs": [],
   "source": [
    "# 가계저축 \n",
    "house_sav_2015 = np.sum(data_sav['2015']) - data_sav.loc[2, '2015']\n",
    "house_sav_2016 = np.sum(data_sav['2016']) - data_sav.loc[2, '2016']\n",
    "house_sav_2017 = np.sum(data_sav['2017']) - data_sav.loc[2, '2017']\n",
    "house_sav_2018 = np.sum(data_sav['2018']) - data_sav.loc[2, '2018']\n",
    "house_sav_2019 = np.sum(data_sav['2019']) - data_sav.loc[2, '2019']\n",
    "\n",
    "house_sav = [house_sav_2015, house_sav_2016, house_sav_2017, house_sav_2018, house_sav_2019]\n",
    "\n",
    "# 정부저축 \n",
    "gov_sav_2015 = data_sav.loc[2, '2015']\n",
    "gov_sav_2016 = data_sav.loc[2, '2016']\n",
    "gov_sav_2017 = data_sav.loc[2, '2017']\n",
    "gov_sav_2018 = data_sav.loc[2, '2018']\n",
    "gov_sav_2019 = data_sav.loc[2, '2019']\n",
    "\n",
    "gov_sav = [gov_sav_2015, gov_sav_2016, gov_sav_2017, gov_sav_2018, gov_sav_2019]"
   ]
  },
  {
   "cell_type": "code",
   "execution_count": 73,
   "id": "c8daa973",
   "metadata": {},
   "outputs": [],
   "source": [
    "def sam_pre(data, house_sav, gov_sav):\n",
    "    \n",
    "    sam = pd.read_excel('/Users/dongyokim/main/jupyter /2022:Summer/프로젝트/SAM 양식.xlsx', sheet_name='전산업_SAM')    \n",
    "    sam.rename(columns={'Unnamed: 0':'구분'}, inplace=True)\n",
    "    sam.set_index('구분', inplace=True)\n",
    "    sam = sam.replace(np.NaN, 0)\n",
    "    \n",
    "    data = data.replace(np.NaN, 0)\n",
    "    \n",
    "    # 산업연관표 데이터 이용 \n",
    "    sam.loc['산업', '산업'] = data.loc['중간투입계', '중간수요계']\n",
    "\n",
    "    sam.loc['가계', '노동'] = data.loc['피용자보수', '중간수요계']\n",
    "    sam.loc['가계', '자본'] = data.loc['영업잉여', '중간수요계'] + data.loc['고정자본소모', '중간수요계']\n",
    "\n",
    "\n",
    "    sam.loc['노동', '산업'] = data.loc['피용자보수', '중간수요계']\n",
    "    sam.loc['자본', '산업'] = data.loc['영업잉여', '중간수요계'] + data.loc['고정자본소모', '중간수요계']\n",
    "\n",
    "    sam.loc['산업', '가계'] = data.loc['중간투입계', '민간소비지출\\n(가계 및 가계봉사\\n비영리단체)']\n",
    "    sam.loc['산업', '정부'] = data.loc['중간투입계', '정부소비지출']\n",
    "    sam.loc['산업', '총 고정 자본'] = data.loc['중간투입계', '민간고정\\n자본형성'] + data.loc['중간투입계', '정부고정\\n자본형성'] + data.loc['중간투입계', '재고증감'] + data.loc['중간투입계', '귀중품\\n순취득']\n",
    "    sam.loc['산업', '해외 수출'] = data.loc['중간투입계', '수출']\n",
    "\n",
    "    sam.loc['간접세', '산업'] = data.loc['생산세(보조금공제)', '중간수요계']\n",
    "    sam.loc['관세', '산업'] = data.loc['중간투입계', '생산물세(수입)']\n",
    "    sam.loc['해외 수입', '산업'] = data.loc['중간투입계', '수입']\n",
    "\n",
    "    sam.loc['정부', '간접세'] = data.loc['생산세(보조금공제)', '중간수요계']\n",
    "    sam.loc['정부', '관세'] = data.loc['중간투입계', '생산물세(수입)']\n",
    "\n",
    "    sam.loc['총 고정 자본', '해외 수출'] = data.loc['중간투입계', '수입'] - data.loc['중간투입계', '수출']\n",
    "    sam.loc['총 고정 자본', '가계'] = house_sav\n",
    "    sam.loc['총 고정 자본', '정부'] = gov_sav\n",
    "\n",
    "\n",
    "\n",
    "    # 행 렬 총계 맞춰주기 \n",
    "    sam['총계'] = sam.sum(axis=1)\n",
    "    sam.loc['총계', :] = sam.sum(axis=0)\n",
    "\n",
    "    sam.loc['정부', '총 고정 자본'] = sam.loc['총 고정 자본', '총계'] - sam.loc['총계', '총 고정 자본']\n",
    "\n",
    "    sam['총계'] = sam.iloc[:-1, :-1].sum(axis=1)\n",
    "    sam.loc['총계', :] = sam.iloc[:-1, :-1].sum(axis=0)\n",
    "\n",
    "    sam.loc['정부', '가계'] = sam.loc['가계', '총계'] - sam.loc['총계', '가계']\n",
    "\n",
    "    sam['총계'] = sam.iloc[:-1, :-1].sum(axis=1)\n",
    "    sam.loc['총계', :] = sam.iloc[:-1, :-1].sum(axis=0)\n",
    "    \n",
    "    \n",
    "    sam = sam.replace(0, np.NaN)\n",
    "    \n",
    "    return sam "
   ]
  },
  {
   "cell_type": "code",
   "execution_count": 8,
   "id": "f90226dd",
   "metadata": {},
   "outputs": [],
   "source": [
    "def sam_pre_detail(data, house_sav, gov_sav):\n",
    "    \n",
    "    sam = pd.read_excel('/Users/dongyokim/main/jupyter/2022:Summer/프로젝트/SAM 양식.xlsx', sheet_name='25개 산업_SAM')    \n",
    "    sam.rename(columns={'Unnamed: 0':'구분'}, inplace=True)\n",
    "    sam.set_index('구분', inplace=True)\n",
    "    sam = sam.replace(np.NaN, 0)\n",
    "    \n",
    "    data = data.replace(np.NaN, 0)\n",
    "    # 산업연관표 데이터 이용 \n",
    "    sam.loc[:'공간정보 관련 협회 및 단체', :'공간정보 관련 협회 및 단체'] = data.loc[:'공간정보 관련 협회 및 단체', :'공간정보 관련 협회 및 단체'].values\n",
    "    \n",
    "    sam.loc['가계', '노동'] = data.loc['피용자보수', '중간수요계']\n",
    "    sam.loc['가계', '자본'] = data.loc['영업잉여', '중간수요계'] + data.loc['고정자본소모', '중간수요계']\n",
    "\n",
    "\n",
    "    sam.loc['노동', :'공간정보 관련 협회 및 단체'] = data.loc['피용자보수', :'공간정보 관련 협회 및 단체'] \n",
    "    sam.loc['자본', :'공간정보 관련 협회 및 단체'] = data.loc['영업잉여', :'공간정보 관련 협회 및 단체'] + data.loc['고정자본소모', :'공간정보 관련 협회 및 단체']\n",
    "\n",
    "    sam.loc[:'공간정보 관련 협회 및 단체', '가계'] = data.loc[:'공간정보 관련 협회 및 단체', '민간소비지출\\n(가계 및 가계봉사\\n비영리단체)']\n",
    "    sam.loc[:'공간정보 관련 협회 및 단체', '정부'] = data.loc[:'공간정보 관련 협회 및 단체', '정부소비지출']\n",
    "    sam.loc[:'공간정보 관련 협회 및 단체', '총 고정 자본'] = data.loc[:'공간정보 관련 협회 및 단체', '민간고정\\n자본형성'] + data.loc[:'공간정보 관련 협회 및 단체', '정부고정\\n자본형성'] + data.loc[:'공간정보 관련 협회 및 단체', '재고증감'] + data.loc[:'공간정보 관련 협회 및 단체', '귀중품\\n순취득']\n",
    "    sam.loc[:'공간정보 관련 협회 및 단체', '해외 수출'] = data.loc[:'공간정보 관련 협회 및 단체', '수출']\n",
    "\n",
    "    sam.loc['간접세', :'공간정보 관련 협회 및 단체'] = data.loc['생산세(보조금공제)', :'공간정보 관련 협회 및 단체']\n",
    "    sam.loc['관세', :'공간정보 관련 협회 및 단체'] = data.loc[:'공간정보 관련 협회 및 단체', '생산물세(수입)']\n",
    "    sam.loc['해외 수입', :'공간정보 관련 협회 및 단체'] = data.loc[:'공간정보 관련 협회 및 단체', '수입']\n",
    "\n",
    "    sam.loc['정부', '간접세'] = data.loc['생산세(보조금공제)', '중간수요계']\n",
    "    sam.loc['정부', '관세'] = data.loc['중간투입계', '생산물세(수입)']\n",
    "\n",
    "    sam.loc['총 고정 자본', '해외 수출'] = data.loc['중간투입계', '수입'] - data.loc['중간투입계', '수출']\n",
    "    sam.loc['총 고정 자본', '가계'] = house_sav\n",
    "    sam.loc['총 고정 자본', '정부'] = gov_sav\n",
    "\n",
    "\n",
    "\n",
    "    # 행 렬 총계 맞춰주기 \n",
    "    sam['총계'] = sam.sum(axis=1)\n",
    "    sam.loc['총계', :] = sam.sum(axis=0)\n",
    "\n",
    "    sam.loc['정부', '총 고정 자본'] = sam.loc['총 고정 자본', '총계'] - sam.loc['총계', '총 고정 자본']\n",
    "\n",
    "    sam['총계'] = sam.iloc[:-1, :-1].sum(axis=1)\n",
    "    sam.loc['총계', :] = sam.iloc[:-1, :-1].sum(axis=0)\n",
    "\n",
    "    sam.loc['정부', '가계'] = sam.loc['가계', '총계'] - sam.loc['총계', '가계']\n",
    "\n",
    "    sam['총계'] = sam.iloc[:-1, :-1].sum(axis=1)\n",
    "    sam.loc['총계', :] = sam.iloc[:-1, :-1].sum(axis=0)\n",
    "    \n",
    "    sam = sam.replace(0, np.NaN)\n",
    "    \n",
    "    return sam "
   ]
  },
  {
   "cell_type": "code",
   "execution_count": 4,
   "id": "af152823",
   "metadata": {},
   "outputs": [],
   "source": [
    "# 전산업 \n",
    "year = int(input('기준 연도를 입력해주세요 : '))\n",
    "for data, house, gov in zip(total_data, house_sav, gov_sav):\n",
    "    result_sam = sam_pre(data, house, gov)\n",
    "    result_sam.to_excel('sam_{}.xlsx'.format(year))\n",
    "    year += 1 \n",
    "    "
   ]
  },
  {
   "cell_type": "code",
   "execution_count": 46,
   "id": "404c07f7",
   "metadata": {},
   "outputs": [
    {
     "name": "stdout",
     "output_type": "stream",
     "text": [
      "기준 연도를 입력해주세요 : 2015\n"
     ]
    }
   ],
   "source": [
    "# 25개 산업 \n",
    "year = int(input('기준 연도를 입력해주세요 : '))\n",
    "for data, house, gov in zip(total_data, house_sav, gov_sav):\n",
    "    result_sam = sam_pre_detail(data, house, gov)\n",
    "    result_sam.to_excel('25개 산업_sam_{}.xlsx'.format(year))\n",
    "    year += 1 \n",
    "    "
   ]
  },
  {
   "cell_type": "code",
   "execution_count": 9,
   "id": "0680c554",
   "metadata": {},
   "outputs": [
    {
     "name": "stdout",
     "output_type": "stream",
     "text": [
      "기준 연도를 입력해주세요 : 2015\n"
     ]
    },
    {
     "ename": "FileNotFoundError",
     "evalue": "[Errno 2] No such file or directory: '/Users/dongyokim/main/jupyter /2022:Summer/프로젝트/SAM 양식.xlsx'",
     "output_type": "error",
     "traceback": [
      "\u001b[0;31m---------------------------------------------------------------------------\u001b[0m",
      "\u001b[0;31mFileNotFoundError\u001b[0m                         Traceback (most recent call last)",
      "Input \u001b[0;32mIn [9]\u001b[0m, in \u001b[0;36m<cell line: 3>\u001b[0;34m()\u001b[0m\n\u001b[1;32m      2\u001b[0m year \u001b[38;5;241m=\u001b[39m \u001b[38;5;28mint\u001b[39m(\u001b[38;5;28minput\u001b[39m(\u001b[38;5;124m'\u001b[39m\u001b[38;5;124m기준 연도를 입력해주세요 : \u001b[39m\u001b[38;5;124m'\u001b[39m))\n\u001b[1;32m      3\u001b[0m \u001b[38;5;28;01mfor\u001b[39;00m data, house, gov \u001b[38;5;129;01min\u001b[39;00m \u001b[38;5;28mzip\u001b[39m(total_data, house_sav, gov_sav):\n\u001b[0;32m----> 4\u001b[0m     result_sam \u001b[38;5;241m=\u001b[39m \u001b[43msam_pre_detail\u001b[49m\u001b[43m(\u001b[49m\u001b[43mdata\u001b[49m\u001b[43m,\u001b[49m\u001b[43m \u001b[49m\u001b[43mhouse\u001b[49m\u001b[43m,\u001b[49m\u001b[43m \u001b[49m\u001b[43mgov\u001b[49m\u001b[43m)\u001b[49m\n\u001b[1;32m      5\u001b[0m     result_sam\u001b[38;5;241m.\u001b[39mto_excel(\u001b[38;5;124m'\u001b[39m\u001b[38;5;124m5개 산업_sam_\u001b[39m\u001b[38;5;132;01m{}\u001b[39;00m\u001b[38;5;124m.xlsx\u001b[39m\u001b[38;5;124m'\u001b[39m\u001b[38;5;241m.\u001b[39mformat(year))\n\u001b[1;32m      6\u001b[0m     year \u001b[38;5;241m+\u001b[39m\u001b[38;5;241m=\u001b[39m \u001b[38;5;241m1\u001b[39m\n",
      "Input \u001b[0;32mIn [8]\u001b[0m, in \u001b[0;36msam_pre_detail\u001b[0;34m(data, house_sav, gov_sav)\u001b[0m\n\u001b[1;32m      1\u001b[0m \u001b[38;5;28;01mdef\u001b[39;00m \u001b[38;5;21msam_pre_detail\u001b[39m(data, house_sav, gov_sav):\n\u001b[0;32m----> 3\u001b[0m     sam \u001b[38;5;241m=\u001b[39m \u001b[43mpd\u001b[49m\u001b[38;5;241;43m.\u001b[39;49m\u001b[43mread_excel\u001b[49m\u001b[43m(\u001b[49m\u001b[38;5;124;43m'\u001b[39;49m\u001b[38;5;124;43m/Users/dongyokim/main/jupyter /2022:Summer/프로젝트/SAM 양식.xlsx\u001b[39;49m\u001b[38;5;124;43m'\u001b[39;49m\u001b[43m,\u001b[49m\u001b[43m \u001b[49m\u001b[43msheet_name\u001b[49m\u001b[38;5;241;43m=\u001b[39;49m\u001b[38;5;124;43m'\u001b[39;49m\u001b[38;5;124;43m25개 산업_SAM\u001b[39;49m\u001b[38;5;124;43m'\u001b[39;49m\u001b[43m)\u001b[49m    \n\u001b[1;32m      4\u001b[0m     sam\u001b[38;5;241m.\u001b[39mrename(columns\u001b[38;5;241m=\u001b[39m{\u001b[38;5;124m'\u001b[39m\u001b[38;5;124mUnnamed: 0\u001b[39m\u001b[38;5;124m'\u001b[39m:\u001b[38;5;124m'\u001b[39m\u001b[38;5;124m구분\u001b[39m\u001b[38;5;124m'\u001b[39m}, inplace\u001b[38;5;241m=\u001b[39m\u001b[38;5;28;01mTrue\u001b[39;00m)\n\u001b[1;32m      5\u001b[0m     sam\u001b[38;5;241m.\u001b[39mset_index(\u001b[38;5;124m'\u001b[39m\u001b[38;5;124m구분\u001b[39m\u001b[38;5;124m'\u001b[39m, inplace\u001b[38;5;241m=\u001b[39m\u001b[38;5;28;01mTrue\u001b[39;00m)\n",
      "File \u001b[0;32m~/miniforge3/lib/python3.9/site-packages/pandas/util/_decorators.py:311\u001b[0m, in \u001b[0;36mdeprecate_nonkeyword_arguments.<locals>.decorate.<locals>.wrapper\u001b[0;34m(*args, **kwargs)\u001b[0m\n\u001b[1;32m    305\u001b[0m \u001b[38;5;28;01mif\u001b[39;00m \u001b[38;5;28mlen\u001b[39m(args) \u001b[38;5;241m>\u001b[39m num_allow_args:\n\u001b[1;32m    306\u001b[0m     warnings\u001b[38;5;241m.\u001b[39mwarn(\n\u001b[1;32m    307\u001b[0m         msg\u001b[38;5;241m.\u001b[39mformat(arguments\u001b[38;5;241m=\u001b[39marguments),\n\u001b[1;32m    308\u001b[0m         \u001b[38;5;167;01mFutureWarning\u001b[39;00m,\n\u001b[1;32m    309\u001b[0m         stacklevel\u001b[38;5;241m=\u001b[39mstacklevel,\n\u001b[1;32m    310\u001b[0m     )\n\u001b[0;32m--> 311\u001b[0m \u001b[38;5;28;01mreturn\u001b[39;00m \u001b[43mfunc\u001b[49m\u001b[43m(\u001b[49m\u001b[38;5;241;43m*\u001b[39;49m\u001b[43margs\u001b[49m\u001b[43m,\u001b[49m\u001b[43m \u001b[49m\u001b[38;5;241;43m*\u001b[39;49m\u001b[38;5;241;43m*\u001b[39;49m\u001b[43mkwargs\u001b[49m\u001b[43m)\u001b[49m\n",
      "File \u001b[0;32m~/miniforge3/lib/python3.9/site-packages/pandas/io/excel/_base.py:364\u001b[0m, in \u001b[0;36mread_excel\u001b[0;34m(io, sheet_name, header, names, index_col, usecols, squeeze, dtype, engine, converters, true_values, false_values, skiprows, nrows, na_values, keep_default_na, na_filter, verbose, parse_dates, date_parser, thousands, comment, skipfooter, convert_float, mangle_dupe_cols, storage_options)\u001b[0m\n\u001b[1;32m    362\u001b[0m \u001b[38;5;28;01mif\u001b[39;00m \u001b[38;5;129;01mnot\u001b[39;00m \u001b[38;5;28misinstance\u001b[39m(io, ExcelFile):\n\u001b[1;32m    363\u001b[0m     should_close \u001b[38;5;241m=\u001b[39m \u001b[38;5;28;01mTrue\u001b[39;00m\n\u001b[0;32m--> 364\u001b[0m     io \u001b[38;5;241m=\u001b[39m \u001b[43mExcelFile\u001b[49m\u001b[43m(\u001b[49m\u001b[43mio\u001b[49m\u001b[43m,\u001b[49m\u001b[43m \u001b[49m\u001b[43mstorage_options\u001b[49m\u001b[38;5;241;43m=\u001b[39;49m\u001b[43mstorage_options\u001b[49m\u001b[43m,\u001b[49m\u001b[43m \u001b[49m\u001b[43mengine\u001b[49m\u001b[38;5;241;43m=\u001b[39;49m\u001b[43mengine\u001b[49m\u001b[43m)\u001b[49m\n\u001b[1;32m    365\u001b[0m \u001b[38;5;28;01melif\u001b[39;00m engine \u001b[38;5;129;01mand\u001b[39;00m engine \u001b[38;5;241m!=\u001b[39m io\u001b[38;5;241m.\u001b[39mengine:\n\u001b[1;32m    366\u001b[0m     \u001b[38;5;28;01mraise\u001b[39;00m \u001b[38;5;167;01mValueError\u001b[39;00m(\n\u001b[1;32m    367\u001b[0m         \u001b[38;5;124m\"\u001b[39m\u001b[38;5;124mEngine should not be specified when passing \u001b[39m\u001b[38;5;124m\"\u001b[39m\n\u001b[1;32m    368\u001b[0m         \u001b[38;5;124m\"\u001b[39m\u001b[38;5;124man ExcelFile - ExcelFile already has the engine set\u001b[39m\u001b[38;5;124m\"\u001b[39m\n\u001b[1;32m    369\u001b[0m     )\n",
      "File \u001b[0;32m~/miniforge3/lib/python3.9/site-packages/pandas/io/excel/_base.py:1191\u001b[0m, in \u001b[0;36mExcelFile.__init__\u001b[0;34m(self, path_or_buffer, engine, storage_options)\u001b[0m\n\u001b[1;32m   1189\u001b[0m     ext \u001b[38;5;241m=\u001b[39m \u001b[38;5;124m\"\u001b[39m\u001b[38;5;124mxls\u001b[39m\u001b[38;5;124m\"\u001b[39m\n\u001b[1;32m   1190\u001b[0m \u001b[38;5;28;01melse\u001b[39;00m:\n\u001b[0;32m-> 1191\u001b[0m     ext \u001b[38;5;241m=\u001b[39m \u001b[43minspect_excel_format\u001b[49m\u001b[43m(\u001b[49m\n\u001b[1;32m   1192\u001b[0m \u001b[43m        \u001b[49m\u001b[43mcontent_or_path\u001b[49m\u001b[38;5;241;43m=\u001b[39;49m\u001b[43mpath_or_buffer\u001b[49m\u001b[43m,\u001b[49m\u001b[43m \u001b[49m\u001b[43mstorage_options\u001b[49m\u001b[38;5;241;43m=\u001b[39;49m\u001b[43mstorage_options\u001b[49m\n\u001b[1;32m   1193\u001b[0m \u001b[43m    \u001b[49m\u001b[43m)\u001b[49m\n\u001b[1;32m   1194\u001b[0m     \u001b[38;5;28;01mif\u001b[39;00m ext \u001b[38;5;129;01mis\u001b[39;00m \u001b[38;5;28;01mNone\u001b[39;00m:\n\u001b[1;32m   1195\u001b[0m         \u001b[38;5;28;01mraise\u001b[39;00m \u001b[38;5;167;01mValueError\u001b[39;00m(\n\u001b[1;32m   1196\u001b[0m             \u001b[38;5;124m\"\u001b[39m\u001b[38;5;124mExcel file format cannot be determined, you must specify \u001b[39m\u001b[38;5;124m\"\u001b[39m\n\u001b[1;32m   1197\u001b[0m             \u001b[38;5;124m\"\u001b[39m\u001b[38;5;124man engine manually.\u001b[39m\u001b[38;5;124m\"\u001b[39m\n\u001b[1;32m   1198\u001b[0m         )\n",
      "File \u001b[0;32m~/miniforge3/lib/python3.9/site-packages/pandas/io/excel/_base.py:1070\u001b[0m, in \u001b[0;36minspect_excel_format\u001b[0;34m(content_or_path, storage_options)\u001b[0m\n\u001b[1;32m   1067\u001b[0m \u001b[38;5;28;01mif\u001b[39;00m \u001b[38;5;28misinstance\u001b[39m(content_or_path, \u001b[38;5;28mbytes\u001b[39m):\n\u001b[1;32m   1068\u001b[0m     content_or_path \u001b[38;5;241m=\u001b[39m BytesIO(content_or_path)\n\u001b[0;32m-> 1070\u001b[0m \u001b[38;5;28;01mwith\u001b[39;00m \u001b[43mget_handle\u001b[49m\u001b[43m(\u001b[49m\n\u001b[1;32m   1071\u001b[0m \u001b[43m    \u001b[49m\u001b[43mcontent_or_path\u001b[49m\u001b[43m,\u001b[49m\u001b[43m \u001b[49m\u001b[38;5;124;43m\"\u001b[39;49m\u001b[38;5;124;43mrb\u001b[39;49m\u001b[38;5;124;43m\"\u001b[39;49m\u001b[43m,\u001b[49m\u001b[43m \u001b[49m\u001b[43mstorage_options\u001b[49m\u001b[38;5;241;43m=\u001b[39;49m\u001b[43mstorage_options\u001b[49m\u001b[43m,\u001b[49m\u001b[43m \u001b[49m\u001b[43mis_text\u001b[49m\u001b[38;5;241;43m=\u001b[39;49m\u001b[38;5;28;43;01mFalse\u001b[39;49;00m\n\u001b[1;32m   1072\u001b[0m \u001b[43m\u001b[49m\u001b[43m)\u001b[49m \u001b[38;5;28;01mas\u001b[39;00m handle:\n\u001b[1;32m   1073\u001b[0m     stream \u001b[38;5;241m=\u001b[39m handle\u001b[38;5;241m.\u001b[39mhandle\n\u001b[1;32m   1074\u001b[0m     stream\u001b[38;5;241m.\u001b[39mseek(\u001b[38;5;241m0\u001b[39m)\n",
      "File \u001b[0;32m~/miniforge3/lib/python3.9/site-packages/pandas/io/common.py:711\u001b[0m, in \u001b[0;36mget_handle\u001b[0;34m(path_or_buf, mode, encoding, compression, memory_map, is_text, errors, storage_options)\u001b[0m\n\u001b[1;32m    702\u001b[0m         handle \u001b[38;5;241m=\u001b[39m \u001b[38;5;28mopen\u001b[39m(\n\u001b[1;32m    703\u001b[0m             handle,\n\u001b[1;32m    704\u001b[0m             ioargs\u001b[38;5;241m.\u001b[39mmode,\n\u001b[0;32m   (...)\u001b[0m\n\u001b[1;32m    707\u001b[0m             newline\u001b[38;5;241m=\u001b[39m\u001b[38;5;124m\"\u001b[39m\u001b[38;5;124m\"\u001b[39m,\n\u001b[1;32m    708\u001b[0m         )\n\u001b[1;32m    709\u001b[0m     \u001b[38;5;28;01melse\u001b[39;00m:\n\u001b[1;32m    710\u001b[0m         \u001b[38;5;66;03m# Binary mode\u001b[39;00m\n\u001b[0;32m--> 711\u001b[0m         handle \u001b[38;5;241m=\u001b[39m \u001b[38;5;28;43mopen\u001b[39;49m\u001b[43m(\u001b[49m\u001b[43mhandle\u001b[49m\u001b[43m,\u001b[49m\u001b[43m \u001b[49m\u001b[43mioargs\u001b[49m\u001b[38;5;241;43m.\u001b[39;49m\u001b[43mmode\u001b[49m\u001b[43m)\u001b[49m\n\u001b[1;32m    712\u001b[0m     handles\u001b[38;5;241m.\u001b[39mappend(handle)\n\u001b[1;32m    714\u001b[0m \u001b[38;5;66;03m# Convert BytesIO or file objects passed with an encoding\u001b[39;00m\n",
      "\u001b[0;31mFileNotFoundError\u001b[0m: [Errno 2] No such file or directory: '/Users/dongyokim/main/jupyter /2022:Summer/프로젝트/SAM 양식.xlsx'"
     ]
    }
   ],
   "source": [
    "# 5개 산업 \n",
    "year = int(input('기준 연도를 입력해주세요 : '))\n",
    "for data, house, gov in zip(total_data, house_sav, gov_sav):\n",
    "    result_sam = sam_pre_detail(data, house, gov)\n",
    "    result_sam.to_excel('5개 산업_sam_{}.xlsx'.format(year))\n",
    "    year += 1 "
   ]
  },
  {
   "cell_type": "code",
   "execution_count": null,
   "id": "f5e26a39",
   "metadata": {},
   "outputs": [],
   "source": []
  }
 ],
 "metadata": {
  "kernelspec": {
   "display_name": "Python 3 (ipykernel)",
   "language": "python",
   "name": "python3"
  },
  "language_info": {
   "codemirror_mode": {
    "name": "ipython",
    "version": 3
   },
   "file_extension": ".py",
   "mimetype": "text/x-python",
   "name": "python",
   "nbconvert_exporter": "python",
   "pygments_lexer": "ipython3",
   "version": "3.9.7"
  }
 },
 "nbformat": 4,
 "nbformat_minor": 5
}
